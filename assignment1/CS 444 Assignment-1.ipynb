{
 "cells": [
  {
   "attachments": {},
   "cell_type": "markdown",
   "metadata": {},
   "source": [
    "# (Optional) Colab Setup\n",
    "If you aren't using Colab, you can delete the following code cell. This is just to help students with mounting to Google Drive to access the other .py files and downloading the data, which is a little trickier on Colab than on your local machine using Jupyter. "
   ]
  },
  {
   "cell_type": "code",
   "execution_count": 1,
   "metadata": {
    "ExecuteTime": {
     "end_time": "2024-02-05T22:30:09.150270600Z",
     "start_time": "2024-02-05T22:30:09.109935800Z"
    }
   },
   "outputs": [],
   "source": [
    "# you will be prompted with a window asking to grant permissions\n",
    "# from google.colab import drive\n",
    "# drive.mount(\"/content/drive\")"
   ]
  },
  {
   "cell_type": "code",
   "execution_count": 2,
   "metadata": {
    "ExecuteTime": {
     "end_time": "2024-02-05T22:30:09.152371400Z",
     "start_time": "2024-02-05T22:30:09.118206700Z"
    }
   },
   "outputs": [],
   "source": [
    "# fill in the path in your Google Drive in the string below. Note: do not escape slashes or spaces\n",
    "# import os\n",
    "# datadir = \"/content/assignment1\"\n",
    "# if not os.path.exists(datadir):\n",
    "#   !ln -s \"/content/drive/My Drive/YOUR PATH HERE/assignment1/\" $datadir\n",
    "# os.chdir(datadir)\n",
    "# !pwd"
   ]
  },
  {
   "cell_type": "code",
   "execution_count": 3,
   "metadata": {
    "ExecuteTime": {
     "end_time": "2024-02-05T22:30:09.155444700Z",
     "start_time": "2024-02-05T22:30:09.124010600Z"
    }
   },
   "outputs": [],
   "source": [
    "# downloading Fashion-MNIST\n",
    "# import os\n",
    "# os.chdir(os.path.join(datadir,\"fashion-mnist/\"))\n",
    "# !chmod +x ./get_data.sh\n",
    "# !./get_data.sh\n",
    "# os.chdir(datadir)"
   ]
  },
  {
   "attachments": {},
   "cell_type": "markdown",
   "metadata": {},
   "source": [
    "# Imports"
   ]
  },
  {
   "cell_type": "code",
   "execution_count": 4,
   "metadata": {
    "ExecuteTime": {
     "end_time": "2024-02-05T22:30:19.803306800Z",
     "start_time": "2024-02-05T22:30:09.133952900Z"
    }
   },
   "outputs": [],
   "source": [
    "import random\n",
    "import numpy as np\n",
    "from data_process import get_FASHION_data, get_RICE_data\n",
    "from scipy.spatial import distance\n",
    "from models import Perceptron, SVM, Softmax, Logistic\n",
    "from kaggle_submission import output_submission_csv\n",
    "%matplotlib inline\n",
    "np.random.seed(441)\n",
    "# For auto-reloading external modules\n",
    "# See http://stackoverflow.com/questions/1907993/autoreload-of-modules-in-ipython\n",
    "%load_ext autoreload\n",
    "%autoreload 2"
   ]
  },
  {
   "cell_type": "markdown",
   "metadata": {},
   "source": [
    "# Loading Fashion-MNIST"
   ]
  },
  {
   "cell_type": "markdown",
   "metadata": {},
   "source": [
    "In the following cells we determine the number of images for each split and load the images.\n",
    "<br /> \n",
    "TRAIN_IMAGES + VAL_IMAGES = (0, 60000]\n",
    ", TEST_IMAGES = 10000"
   ]
  },
  {
   "cell_type": "code",
   "execution_count": 5,
   "metadata": {
    "ExecuteTime": {
     "end_time": "2024-02-05T22:30:19.869115900Z",
     "start_time": "2024-02-05T22:30:19.805414300Z"
    }
   },
   "outputs": [],
   "source": [
    "# You can change these numbers for experimentation\n",
    "# For submission we will use the default values \n",
    "TRAIN_IMAGES = 50000\n",
    "VAL_IMAGES = 10000\n",
    "normalize = True"
   ]
  },
  {
   "cell_type": "code",
   "execution_count": 6,
   "metadata": {
    "ExecuteTime": {
     "end_time": "2024-02-05T22:30:20.519096100Z",
     "start_time": "2024-02-05T22:30:19.861769700Z"
    }
   },
   "outputs": [],
   "source": [
    "data = get_FASHION_data(TRAIN_IMAGES, VAL_IMAGES, normalize=normalize)\n",
    "X_train_fashion, y_train_fashion = data['X_train'], data['y_train']\n",
    "X_val_fashion, y_val_fashion = data['X_val'], data['y_val']\n",
    "X_test_fashion, y_test_fashion = data['X_test'], data['y_test']\n",
    "n_class_fashion = len(np.unique(y_test_fashion))"
   ]
  },
  {
   "attachments": {},
   "cell_type": "markdown",
   "metadata": {},
   "source": [
    "# Loading Rice"
   ]
  },
  {
   "cell_type": "code",
   "execution_count": 7,
   "metadata": {
    "ExecuteTime": {
     "end_time": "2024-02-05T22:30:20.790959900Z",
     "start_time": "2024-02-05T22:30:20.521131900Z"
    }
   },
   "outputs": [
    {
     "name": "stdout",
     "output_type": "stream",
     "text": [
      "Number of train samples:  10911\n",
      "Number of val samples:  3637\n",
      "Number of test samples:  3637\n"
     ]
    }
   ],
   "source": [
    "# loads train / test / val splits of 80%, 20%, 20% \n",
    "data = get_RICE_data()\n",
    "X_train_RICE, y_train_RICE = data['X_train'], data['y_train']\n",
    "X_val_RICE, y_val_RICE = data['X_val'], data['y_val']\n",
    "X_test_RICE, y_test_RICE = data['X_test'], data['y_test']\n",
    "n_class_RICE = len(np.unique(y_test_RICE))\n",
    "\n",
    "print(\"Number of train samples: \", X_train_RICE.shape[0])\n",
    "print(\"Number of val samples: \", X_val_RICE.shape[0])\n",
    "print(\"Number of test samples: \", X_test_RICE.shape[0])"
   ]
  },
  {
   "cell_type": "markdown",
   "metadata": {},
   "source": [
    "### Get Accuracy"
   ]
  },
  {
   "cell_type": "markdown",
   "metadata": {},
   "source": [
    "This function computes how well your model performs using accuracy as a metric."
   ]
  },
  {
   "cell_type": "code",
   "execution_count": 8,
   "metadata": {
    "ExecuteTime": {
     "end_time": "2024-02-05T22:30:20.853293900Z",
     "start_time": "2024-02-05T22:30:20.790959900Z"
    }
   },
   "outputs": [],
   "source": [
    "def get_acc(pred, y_test):\n",
    "    return np.sum(y_test == pred) / len(y_test) * 100"
   ]
  },
  {
   "cell_type": "markdown",
   "metadata": {},
   "source": [
    "# Perceptron"
   ]
  },
  {
   "cell_type": "markdown",
   "metadata": {},
   "source": [
    "Perceptron has 2 hyperparameters that you can experiment with:\n",
    "### Learning rate\n",
    "The learning rate controls how much we change the current weights of the classifier during each update. We set it at a default value of 0.5, but you should experiment with different values. Here is a guide to help you find a right learning rate: \n",
    "- Try values ranging from 5.0 to 0.0005 to see the impact on model accuracy. \n",
    "- If the accuracy fluctuates a lot or diverges, the learning rate is too high. Try decreasing it by a factor of 10 (e.g. from 0.5 to 0.05). \n",
    "- If the accuracy is changing very slowly, the learning rate may be too low. Try increasing it by a factor of 10.\n",
    "- You can also try adding a learning rate decay to slowly reduce the learning rate over each training epoch. For example, multiply the learning rate by 0.95 after each epoch.\n",
    "- Plot training and validation accuracy over epochs for different learning rates. This will help you visualize the impact of the learning rate.\n",
    "- [Here](https://towardsdatascience.com/https-medium-com-dashingaditya-rakhecha-understanding-learning-rate-dd5da26bb6de) is a detailed guide to learning rate.\n",
    "\n",
    "### Number of Epochs\n",
    "An epoch is a complete iterative pass over all of the data in the dataset. During an epoch we predict a label using the classifier and then update the weights of the classifier according to the perceptron update rule for each sample in the training set. You should try different values for the number of training epochs and report your results."
   ]
  },
  {
   "cell_type": "markdown",
   "metadata": {},
   "source": [
    "You will implement the Perceptron classifier in the **models/perceptron.py**\n",
    "\n",
    "The following code: \n",
    "- Creates an instance of the Perceptron classifier class \n",
    "- The train function of the Perceptron class is trained on the training data\n",
    "- We use the predict function to find the training accuracy as well as the testing accuracy\n"
   ]
  },
  {
   "cell_type": "markdown",
   "metadata": {},
   "source": [
    "## Train Perceptron on Fashion-MNIST"
   ]
  },
  {
   "cell_type": "code",
   "execution_count": 68,
   "metadata": {
    "ExecuteTime": {
     "end_time": "2024-02-05T22:30:33.787576Z",
     "start_time": "2024-02-05T22:30:20.846085800Z"
    }
   },
   "outputs": [
    {
     "name": "stdout",
     "output_type": "stream",
     "text": [
      "Epoch 0, error: 0.3746, lr: 0.0194\n",
      "Epoch 1, error: 0.32554, lr: 0.018818\n",
      "Epoch 2, error: 0.31088, lr: 0.01825346\n",
      "Epoch 3, error: 0.30516, lr: 0.017705856199999998\n",
      "Epoch 4, error: 0.29432, lr: 0.017174680513999997\n",
      "Epoch 5, error: 0.29318, lr: 0.016659440098579996\n",
      "Epoch 6, error: 0.28778, lr: 0.016159656895622595\n",
      "Epoch 7, error: 0.28714, lr: 0.015674867188753917\n",
      "Epoch 8, error: 0.28484, lr: 0.0152046211730913\n",
      "Epoch 9, error: 0.27992, lr: 0.014748482537898561\n",
      "Epoch 10, error: 0.27782, lr: 0.014306028061761605\n",
      "Epoch 11, error: 0.2786, lr: 0.013876847219908756\n",
      "Epoch 12, error: 0.275, lr: 0.013460541803311493\n",
      "Epoch 13, error: 0.27386, lr: 0.013056725549212148\n",
      "Epoch 14, error: 0.27076, lr: 0.012665023782735783\n",
      "Epoch 15, error: 0.26998, lr: 0.01228507306925371\n",
      "Epoch 16, error: 0.27026, lr: 0.011916520877176097\n",
      "Epoch 17, error: 0.26804, lr: 0.011559025250860814\n",
      "Epoch 18, error: 0.26702, lr: 0.011212254493334989\n",
      "Epoch 19, error: 0.2675, lr: 0.010875886858534939\n",
      "Epoch 20, error: 0.26234, lr: 0.01054961025277889\n",
      "Epoch 21, error: 0.26442, lr: 0.010233121945195524\n",
      "Epoch 22, error: 0.2602, lr: 0.009926128286839657\n",
      "Epoch 23, error: 0.26174, lr: 0.009628344438234467\n",
      "Epoch 24, error: 0.25754, lr: 0.009339494105087432\n",
      "Epoch 25, error: 0.2596, lr: 0.009059309281934809\n",
      "Epoch 26, error: 0.2584, lr: 0.008787530003476764\n",
      "Epoch 27, error: 0.25622, lr: 0.00852390410337246\n",
      "Epoch 28, error: 0.25688, lr: 0.008268186980271286\n",
      "Epoch 29, error: 0.25442, lr: 0.008020141370863147\n",
      "Epoch 30, error: 0.253, lr: 0.007779537129737253\n",
      "Epoch 31, error: 0.25286, lr: 0.007546151015845135\n",
      "Epoch 32, error: 0.25234, lr: 0.007319766485369781\n",
      "Epoch 33, error: 0.25282, lr: 0.0071001734908086875\n",
      "Epoch 34, error: 0.24944, lr: 0.006887168286084427\n",
      "Epoch 35, error: 0.24928, lr: 0.006680553237501894\n",
      "Epoch 36, error: 0.24928, lr: 0.006480136640376837\n",
      "Epoch 37, error: 0.24704, lr: 0.006285732541165531\n",
      "Epoch 38, error: 0.2464, lr: 0.006097160564930565\n",
      "Epoch 39, error: 0.2476, lr: 0.0059142457479826474\n"
     ]
    }
   ],
   "source": [
    "lr = 0.02\n",
    "n_epochs = 40\n",
    "\n",
    "percept_fashion = Perceptron(n_class_fashion, lr, n_epochs)\n",
    "percept_fashion.train(X_train_fashion, y_train_fashion)"
   ]
  },
  {
   "cell_type": "code",
   "execution_count": 69,
   "metadata": {
    "ExecuteTime": {
     "end_time": "2024-02-05T22:30:33.890794300Z",
     "start_time": "2024-02-05T22:30:33.781406200Z"
    }
   },
   "outputs": [
    {
     "name": "stdout",
     "output_type": "stream",
     "text": [
      "The training accuracy is given by: 80.166000\n"
     ]
    }
   ],
   "source": [
    "pred_percept = percept_fashion.predict(X_train_fashion)\n",
    "print('The training accuracy is given by: %f' % (get_acc(pred_percept, y_train_fashion)))"
   ]
  },
  {
   "cell_type": "markdown",
   "metadata": {},
   "source": [
    "### Validate Perceptron on Fashion-MNIST"
   ]
  },
  {
   "cell_type": "code",
   "execution_count": 36,
   "metadata": {
    "ExecuteTime": {
     "end_time": "2024-02-05T22:30:33.955316100Z",
     "start_time": "2024-02-05T22:30:33.884479300Z"
    }
   },
   "outputs": [
    {
     "name": "stdout",
     "output_type": "stream",
     "text": [
      "The validation accuracy is given by: 80.170000\n"
     ]
    }
   ],
   "source": [
    "pred_percept = percept_fashion.predict(X_val_fashion)\n",
    "print('The validation accuracy is given by: %f' % (get_acc(pred_percept, y_val_fashion)))"
   ]
  },
  {
   "cell_type": "markdown",
   "metadata": {},
   "source": [
    "### Test Perceptron on Fashion-MNIST"
   ]
  },
  {
   "cell_type": "code",
   "execution_count": 37,
   "metadata": {
    "ExecuteTime": {
     "end_time": "2024-02-05T22:30:34.029151600Z",
     "start_time": "2024-02-05T22:30:33.951204800Z"
    }
   },
   "outputs": [
    {
     "name": "stdout",
     "output_type": "stream",
     "text": [
      "The testing accuracy is given by: 79.380000\n"
     ]
    }
   ],
   "source": [
    "pred_percept = percept_fashion.predict(X_test_fashion)\n",
    "print('The testing accuracy is given by: %f' % (get_acc(pred_percept, y_test_fashion)))"
   ]
  },
  {
   "cell_type": "markdown",
   "metadata": {},
   "source": [
    "### Perceptron_Fashion-MNIST Kaggle Submission\n",
    "\n",
    "Once you are satisfied with your solution and test accuracy, output a file to submit your test set predictions to the Kaggle for Assignment 1 Fashion-MNIST. Use the following code to do so:"
   ]
  },
  {
   "cell_type": "code",
   "execution_count": 26,
   "metadata": {
    "ExecuteTime": {
     "end_time": "2024-02-05T22:30:34.094382600Z",
     "start_time": "2024-02-05T22:30:34.022869500Z"
    }
   },
   "outputs": [],
   "source": [
    "# output_submission_csv('kaggle/perceptron_submission_fashion.csv', percept_fashion.predict(X_test_fashion))"
   ]
  },
  {
   "attachments": {},
   "cell_type": "markdown",
   "metadata": {},
   "source": [
    "## Train Perceptron on Rice"
   ]
  },
  {
   "cell_type": "code",
   "execution_count": 64,
   "metadata": {
    "ExecuteTime": {
     "end_time": "2024-02-05T22:30:36.521781800Z",
     "start_time": "2024-02-05T22:30:34.082917800Z"
    }
   },
   "outputs": [
    {
     "name": "stdout",
     "output_type": "stream",
     "text": [
      "Epoch 0, error: 0.2803592704610027, lr: 0.0001\n",
      "Epoch 1, error: 0.26047108422692694, lr: 0.0001\n",
      "Epoch 2, error: 0.23719182476399964, lr: 0.0001\n",
      "Epoch 3, error: 0.18458436440289616, lr: 0.0001\n",
      "Epoch 4, error: 0.14737420951333516, lr: 0.0001\n",
      "Epoch 5, error: 0.0959582073137201, lr: 0.0001\n",
      "Epoch 6, error: 0.08761800018330125, lr: 0.0001\n",
      "Epoch 7, error: 0.08816790395014205, lr: 0.0001\n",
      "Epoch 8, error: 0.05902300430757951, lr: 0.0001\n",
      "Epoch 9, error: 0.057098341123636695, lr: 0.0001\n",
      "Epoch 10, error: 0.04967464027128586, lr: 0.0001\n",
      "Epoch 11, error: 0.047200073320502245, lr: 0.0001\n",
      "Epoch 12, error: 0.03702685363394739, lr: 0.0001\n",
      "Epoch 13, error: 0.038951516817890205, lr: 0.0001\n",
      "Epoch 14, error: 0.032535972871414166, lr: 0.0001\n"
     ]
    }
   ],
   "source": [
    "lr = 0.0001\n",
    "n_epochs = 15\n",
    "\n",
    "percept_RICE = Perceptron(n_class_RICE, lr, n_epochs)\n",
    "percept_RICE.train(X_train_RICE, y_train_RICE)"
   ]
  },
  {
   "cell_type": "code",
   "execution_count": 65,
   "metadata": {
    "ExecuteTime": {
     "end_time": "2024-02-05T22:30:36.578326300Z",
     "start_time": "2024-02-05T22:30:36.517587500Z"
    }
   },
   "outputs": [
    {
     "name": "stdout",
     "output_type": "stream",
     "text": [
      "The training accuracy is given by: 99.193474\n"
     ]
    }
   ],
   "source": [
    "pred_percept = percept_RICE.predict(X_train_RICE)\n",
    "print('The training accuracy is given by: %f' % (get_acc(pred_percept, y_train_RICE)))"
   ]
  },
  {
   "attachments": {},
   "cell_type": "markdown",
   "metadata": {},
   "source": [
    "### Validate Perceptron on Rice"
   ]
  },
  {
   "cell_type": "code",
   "execution_count": 66,
   "metadata": {
    "ExecuteTime": {
     "end_time": "2024-02-05T22:30:36.638387800Z",
     "start_time": "2024-02-05T22:30:36.578326300Z"
    }
   },
   "outputs": [
    {
     "name": "stdout",
     "output_type": "stream",
     "text": [
      "The validation accuracy is given by: 99.257630\n"
     ]
    }
   ],
   "source": [
    "pred_percept = percept_RICE.predict(X_val_RICE)\n",
    "print('The validation accuracy is given by: %f' % (get_acc(pred_percept, y_val_RICE)))"
   ]
  },
  {
   "attachments": {},
   "cell_type": "markdown",
   "metadata": {},
   "source": [
    "### Test Perceptron on Rice"
   ]
  },
  {
   "cell_type": "code",
   "execution_count": 67,
   "metadata": {
    "ExecuteTime": {
     "end_time": "2024-02-05T22:30:36.700234100Z",
     "start_time": "2024-02-05T22:30:36.638387800Z"
    }
   },
   "outputs": [
    {
     "name": "stdout",
     "output_type": "stream",
     "text": [
      "The testing accuracy is given by: 99.120154\n"
     ]
    }
   ],
   "source": [
    "pred_percept = percept_RICE.predict(X_test_RICE)\n",
    "print('The testing accuracy is given by: %f' % (get_acc(pred_percept, y_test_RICE)))"
   ]
  },
  {
   "cell_type": "markdown",
   "metadata": {},
   "source": [
    "# Support Vector Machines (with SGD)"
   ]
  },
  {
   "cell_type": "markdown",
   "metadata": {},
   "source": [
    "Next, you will implement a \"soft margin\" SVM. In this formulation you will maximize the margin between positive and negative training examples and penalize margin violations using a hinge loss.\n",
    "\n",
    "We will optimize the SVM loss using SGD. This means you must compute the loss function with respect to model weights. You will use this gradient to update the model weights.\n",
    "\n",
    "SVM optimized with SGD has 3 hyperparameters that you can experiment with:\n",
    "- **Learning rate** - similar to as defined above in Perceptron, this parameter scales by how much the weights are changed according to the calculated gradient update. \n",
    "- **Epochs** - similar to as defined above in Perceptron.\n",
    "- **Regularization constant** - Hyperparameter to determine the strength of regularization. In this case it is a coefficient on the term which maximizes the margin. You could try different values. The default value is set to 0.05."
   ]
  },
  {
   "cell_type": "markdown",
   "metadata": {},
   "source": [
    "You will implement the SVM using SGD in the **models/svm.py**\n",
    "\n",
    "The following code: \n",
    "- Creates an instance of the SVM classifier class \n",
    "- The train function of the SVM class is trained on the training data\n",
    "- We use the predict function to find the training accuracy as well as the testing accuracy"
   ]
  },
  {
   "cell_type": "markdown",
   "metadata": {},
   "source": [
    "## Train SVM on Fashion-MNIST"
   ]
  },
  {
   "cell_type": "code",
   "execution_count": 117,
   "metadata": {
    "ExecuteTime": {
     "end_time": "2024-02-05T23:04:14.186460900Z",
     "start_time": "2024-02-05T23:04:14.022598500Z"
    }
   },
   "outputs": [
    {
     "name": "stdout",
     "output_type": "stream",
     "text": [
      "epoch 1 / 30, error: 0.93736\n",
      "epoch 2 / 30, error: 0.22529999999999994\n",
      "epoch 3 / 30, error: 0.21267999999999998\n",
      "epoch 4 / 30, error: 0.20320000000000005\n",
      "epoch 5 / 30, error: 0.19845999999999997\n",
      "epoch 6 / 30, error: 0.19894\n",
      "epoch 7 / 30, error: 0.20208000000000004\n",
      "epoch 8 / 30, error: 0.20409999999999995\n",
      "epoch 9 / 30, error: 0.19652000000000003\n",
      "epoch 10 / 30, error: 0.20482\n",
      "epoch 11 / 30, error: 0.19940000000000002\n",
      "epoch 12 / 30, error: 0.20016\n",
      "epoch 13 / 30, error: 0.20182\n",
      "epoch 14 / 30, error: 0.18676000000000004\n",
      "epoch 15 / 30, error: 0.19994\n",
      "epoch 16 / 30, error: 0.20484000000000002\n",
      "epoch 17 / 30, error: 0.20132000000000005\n",
      "epoch 18 / 30, error: 0.19976000000000005\n",
      "epoch 19 / 30, error: 0.1975\n",
      "epoch 20 / 30, error: 0.19001999999999997\n",
      "epoch 21 / 30, error: 0.20143999999999995\n",
      "epoch 22 / 30, error: 0.19613999999999998\n",
      "epoch 23 / 30, error: 0.19306\n",
      "epoch 24 / 30, error: 0.19340000000000002\n",
      "epoch 25 / 30, error: 0.18445999999999996\n",
      "epoch 26 / 30, error: 0.19652000000000003\n",
      "epoch 27 / 30, error: 0.19388000000000005\n",
      "epoch 28 / 30, error: 0.18835999999999997\n",
      "epoch 29 / 30, error: 0.19438\n",
      "epoch 30 / 30, error: 0.18879999999999997\n"
     ]
    }
   ],
   "source": [
    "lr = 0.001\n",
    "n_epochs = 30\n",
    "reg_const = 2\n",
    "\n",
    "svm_fashion = SVM(n_class_fashion, lr, n_epochs, reg_const)\n",
    "svm_fashion.train(X_train_fashion, y_train_fashion)"
   ]
  },
  {
   "cell_type": "code",
   "execution_count": 118,
   "metadata": {},
   "outputs": [
    {
     "name": "stdout",
     "output_type": "stream",
     "text": [
      "The training accuracy is given by: 80.434000\n"
     ]
    }
   ],
   "source": [
    "pred_svm = svm_fashion.predict(X_train_fashion)\n",
    "print('The training accuracy is given by: %f' % (get_acc(pred_svm, y_train_fashion)))"
   ]
  },
  {
   "cell_type": "markdown",
   "metadata": {},
   "source": [
    "### Validate SVM on Fashion-MNIST"
   ]
  },
  {
   "cell_type": "code",
   "execution_count": 119,
   "metadata": {},
   "outputs": [
    {
     "name": "stdout",
     "output_type": "stream",
     "text": [
      "The validation accuracy is given by: 77.850000\n"
     ]
    }
   ],
   "source": [
    "pred_svm = svm_fashion.predict(X_val_fashion)\n",
    "print('The validation accuracy is given by: %f' % (get_acc(pred_svm, y_val_fashion)))"
   ]
  },
  {
   "cell_type": "markdown",
   "metadata": {},
   "source": [
    "### Test SVM on Fashion-MNIST"
   ]
  },
  {
   "cell_type": "code",
   "execution_count": 120,
   "metadata": {},
   "outputs": [
    {
     "name": "stdout",
     "output_type": "stream",
     "text": [
      "The testing accuracy is given by: 77.410000\n"
     ]
    }
   ],
   "source": [
    "pred_svm = svm_fashion.predict(X_test_fashion)\n",
    "print('The testing accuracy is given by: %f' % (get_acc(pred_svm, y_test_fashion)))"
   ]
  },
  {
   "cell_type": "markdown",
   "metadata": {},
   "source": [
    "### SVM_Fashion-MNIST Kaggle Submission\n",
    "\n",
    "Once you are satisfied with your solution and test accuracy output a file to submit your test set predictions to the Kaggle for Assignment 1 Fashion-MNIST. Use the following code to do so:"
   ]
  },
  {
   "cell_type": "code",
   "execution_count": 84,
   "metadata": {},
   "outputs": [],
   "source": [
    "output_submission_csv('kaggle/svm_submission_fashion.csv', svm_fashion.predict(X_test_fashion))"
   ]
  },
  {
   "attachments": {},
   "cell_type": "markdown",
   "metadata": {},
   "source": [
    "## Train SVM on Rice"
   ]
  },
  {
   "cell_type": "code",
   "execution_count": 76,
   "metadata": {},
   "outputs": [
    {
     "name": "stdout",
     "output_type": "stream",
     "text": [
      "epoch 1 / 50, train accuracy: 42.54422142791678\n",
      "epoch 2 / 50, train accuracy: 63.88965264412061\n",
      "epoch 3 / 50, train accuracy: 79.91934744753001\n",
      "epoch 4 / 50, train accuracy: 75.0068737970855\n",
      "epoch 5 / 50, train accuracy: 60.8193566125928\n",
      "epoch 6 / 50, train accuracy: 82.00898176152506\n",
      "epoch 7 / 50, train accuracy: 64.60452754101365\n",
      "epoch 8 / 50, train accuracy: 79.40610393181193\n",
      "epoch 9 / 50, train accuracy: 62.94565117771057\n",
      "epoch 10 / 50, train accuracy: 62.82650536156172\n",
      "epoch 11 / 50, train accuracy: 70.6443039134818\n",
      "epoch 12 / 50, train accuracy: 76.10668133076712\n",
      "epoch 13 / 50, train accuracy: 77.96718907524517\n",
      "epoch 14 / 50, train accuracy: 83.08129410686463\n",
      "epoch 15 / 50, train accuracy: 67.23490055906883\n",
      "epoch 16 / 50, train accuracy: 88.46118595912382\n",
      "epoch 17 / 50, train accuracy: 93.63944643020805\n",
      "epoch 18 / 50, train accuracy: 89.91843094125194\n",
      "epoch 19 / 50, train accuracy: 95.75657593254515\n",
      "epoch 20 / 50, train accuracy: 98.9918430941252\n",
      "epoch 21 / 50, train accuracy: 96.38896526441206\n",
      "epoch 22 / 50, train accuracy: 93.94189350197048\n",
      "epoch 23 / 50, train accuracy: 96.77389790120063\n",
      "epoch 24 / 50, train accuracy: 90.17505269911099\n",
      "epoch 25 / 50, train accuracy: 98.0661717532765\n",
      "epoch 26 / 50, train accuracy: 99.9083493721932\n",
      "epoch 27 / 50, train accuracy: 99.3584456053524\n",
      "epoch 28 / 50, train accuracy: 99.84419393272844\n",
      "epoch 29 / 50, train accuracy: 98.71689121070479\n",
      "epoch 30 / 50, train accuracy: 99.7250481165796\n",
      "epoch 31 / 50, train accuracy: 99.89001924663185\n",
      "epoch 32 / 50, train accuracy: 99.312620291449\n",
      "epoch 33 / 50, train accuracy: 99.85335899550913\n",
      "epoch 34 / 50, train accuracy: 99.88085418385117\n",
      "epoch 35 / 50, train accuracy: 99.70671799101824\n",
      "epoch 36 / 50, train accuracy: 99.61506736321144\n",
      "epoch 37 / 50, train accuracy: 99.67005773989553\n",
      "epoch 38 / 50, train accuracy: 99.89918430941252\n",
      "epoch 39 / 50, train accuracy: 99.45926129593988\n",
      "epoch 40 / 50, train accuracy: 99.89001924663185\n",
      "epoch 41 / 50, train accuracy: 99.75254330492163\n",
      "epoch 42 / 50, train accuracy: 99.89918430941252\n",
      "epoch 43 / 50, train accuracy: 99.89918430941252\n",
      "epoch 44 / 50, train accuracy: 99.86252405828981\n",
      "epoch 45 / 50, train accuracy: 99.88085418385117\n",
      "epoch 46 / 50, train accuracy: 99.70671799101824\n",
      "epoch 47 / 50, train accuracy: 99.92667949775455\n",
      "epoch 48 / 50, train accuracy: 99.42260104481716\n",
      "epoch 49 / 50, train accuracy: 99.36761066813308\n",
      "epoch 50 / 50, train accuracy: 99.91751443497388\n"
     ]
    }
   ],
   "source": [
    "lr = 0.001\n",
    "n_epochs = 50\n",
    "reg_const = 0.05\n",
    "\n",
    "svm_RICE = SVM(n_class_RICE, lr, n_epochs, reg_const)\n",
    "svm_RICE.train(X_train_RICE, y_train_RICE)"
   ]
  },
  {
   "cell_type": "code",
   "execution_count": 77,
   "metadata": {},
   "outputs": [
    {
     "name": "stdout",
     "output_type": "stream",
     "text": [
      "The training accuracy is given by: 99.908349\n"
     ]
    }
   ],
   "source": [
    "pred_svm = svm_RICE.predict(X_train_RICE)\n",
    "print('The training accuracy is given by: %f' % (get_acc(pred_svm, y_train_RICE)))"
   ]
  },
  {
   "attachments": {},
   "cell_type": "markdown",
   "metadata": {},
   "source": [
    "### Validate SVM on Rice"
   ]
  },
  {
   "cell_type": "code",
   "execution_count": 78,
   "metadata": {},
   "outputs": [
    {
     "name": "stdout",
     "output_type": "stream",
     "text": [
      "The validation accuracy is given by: 99.862524\n"
     ]
    }
   ],
   "source": [
    "pred_svm = svm_RICE.predict(X_val_RICE)\n",
    "print('The validation accuracy is given by: %f' % (get_acc(pred_svm, y_val_RICE)))"
   ]
  },
  {
   "attachments": {},
   "cell_type": "markdown",
   "metadata": {},
   "source": [
    "## Test SVM on Rice"
   ]
  },
  {
   "cell_type": "code",
   "execution_count": 79,
   "metadata": {},
   "outputs": [
    {
     "name": "stdout",
     "output_type": "stream",
     "text": [
      "The testing accuracy is given by: 99.862524\n"
     ]
    }
   ],
   "source": [
    "pred_svm = svm_RICE.predict(X_test_RICE)\n",
    "print('The testing accuracy is given by: %f' % (get_acc(pred_svm, y_test_RICE)))"
   ]
  },
  {
   "cell_type": "markdown",
   "metadata": {},
   "source": [
    "# Softmax Classifier (with SGD)"
   ]
  },
  {
   "cell_type": "markdown",
   "metadata": {
    "collapsed": true,
    "jupyter": {
     "outputs_hidden": true
    }
   },
   "source": [
    "Next, you will train a Softmax classifier. This classifier consists of a linear function of the input data followed by a softmax function which outputs a vector of dimension C (number of classes) for each data point. Each entry of the softmax output vector corresponds to a confidence in one of the C classes, and like a probability distribution, the entries of the output vector sum to 1. We use a cross-entropy loss on this sotmax output to train the model. \n",
    "\n",
    "Check the following link as an additional resource on softmax classification: http://cs231n.github.io/linear-classify/#softmax\n",
    "\n",
    "Once again we will train the classifier with SGD. This means you need to compute the gradients of the softmax cross-entropy loss function according to the weights and update the weights using this gradient. Check the following link to help with implementing the gradient updates: https://deepnotes.io/softmax-crossentropy"
   ]
  },
  {
   "cell_type": "markdown",
   "metadata": {},
   "source": [
    "The softmax classifier has 3 hyperparameters that you can experiment with:\n",
    "- **Learning rate** - As above, this controls how much the model weights are updated with respect to their gradient.\n",
    "- **Number of Epochs** - As described for perceptron.\n",
    "- **Regularization constant** - Hyperparameter to determine the strength of regularization. In this case, we minimize the L2 norm of the model weights as regularization, so the regularization constant is a coefficient on the L2 norm in the combined cross-entropy and regularization objective."
   ]
  },
  {
   "cell_type": "markdown",
   "metadata": {},
   "source": [
    "You will implement a softmax classifier using SGD in the **models/softmax.py**\n",
    "\n",
    "The following code: \n",
    "- Creates an instance of the Softmax classifier class \n",
    "- The train function of the Softmax class is trained on the training data\n",
    "- We use the predict function to find the training accuracy as well as the testing accuracy"
   ]
  },
  {
   "cell_type": "markdown",
   "metadata": {},
   "source": [
    "## Train Softmax on Fashion-MNIST"
   ]
  },
  {
   "cell_type": "code",
   "execution_count": null,
   "metadata": {},
   "outputs": [],
   "source": [
    "lr = 0.5\n",
    "n_epochs = 10\n",
    "reg_const = 0.5\n",
    "\n",
    "softmax_fashion = Softmax(n_class_fashion, lr, n_epochs, reg_const)\n",
    "softmax_fashion.train(X_train_fashion, y_train_fashion)"
   ]
  },
  {
   "cell_type": "code",
   "execution_count": null,
   "metadata": {},
   "outputs": [],
   "source": [
    "pred_softmax = softmax_fashion.predict(X_train_fashion)\n",
    "print('The training accuracy is given by: %f' % (get_acc(pred_softmax, y_train_fashion)))"
   ]
  },
  {
   "cell_type": "markdown",
   "metadata": {},
   "source": [
    "### Validate Softmax on Fashion-MNIST"
   ]
  },
  {
   "cell_type": "code",
   "execution_count": null,
   "metadata": {},
   "outputs": [],
   "source": [
    "pred_softmax = softmax_fashion.predict(X_val_fashion)\n",
    "print('The validation accuracy is given by: %f' % (get_acc(pred_softmax, y_val_fashion)))"
   ]
  },
  {
   "cell_type": "markdown",
   "metadata": {},
   "source": [
    "### Testing Softmax on Fashion-MNIST"
   ]
  },
  {
   "cell_type": "code",
   "execution_count": null,
   "metadata": {},
   "outputs": [],
   "source": [
    "pred_softmax = softmax_fashion.predict(X_test_fashion)\n",
    "print('The testing accuracy is given by: %f' % (get_acc(pred_softmax, y_test_fashion)))"
   ]
  },
  {
   "cell_type": "markdown",
   "metadata": {},
   "source": [
    "### Softmax_Fashion-MNIST Kaggle Submission\n",
    "\n",
    "Once you are satisfied with your solution and test accuracy output a file to submit your test set predictions to the Kaggle for Assignment 1 Fashion-MNIST. Use the following code to do so:"
   ]
  },
  {
   "cell_type": "code",
   "execution_count": null,
   "metadata": {},
   "outputs": [],
   "source": [
    "output_submission_csv('kaggle/softmax_submission_fashion.csv', softmax_fashion.predict(X_test_fashion))"
   ]
  },
  {
   "attachments": {},
   "cell_type": "markdown",
   "metadata": {},
   "source": [
    "## Train Softmax on Rice"
   ]
  },
  {
   "cell_type": "code",
   "execution_count": null,
   "metadata": {},
   "outputs": [],
   "source": [
    "lr = 0.5\n",
    "n_epochs = 10\n",
    "reg_const = 0.05\n",
    "\n",
    "softmax_RICE = Softmax(n_class_RICE, lr, n_epochs, reg_const)\n",
    "softmax_RICE.train(X_train_RICE, y_train_RICE)"
   ]
  },
  {
   "cell_type": "code",
   "execution_count": null,
   "metadata": {},
   "outputs": [],
   "source": [
    "pred_softmax = softmax_RICE.predict(X_train_RICE)\n",
    "print('The training accuracy is given by: %f' % (get_acc(pred_softmax, y_train_RICE)))"
   ]
  },
  {
   "attachments": {},
   "cell_type": "markdown",
   "metadata": {},
   "source": [
    "### Validate Softmax on Rice"
   ]
  },
  {
   "cell_type": "code",
   "execution_count": null,
   "metadata": {},
   "outputs": [],
   "source": [
    "pred_softmax = softmax_RICE.predict(X_val_RICE)\n",
    "print('The validation accuracy is given by: %f' % (get_acc(pred_softmax, y_val_RICE)))"
   ]
  },
  {
   "attachments": {},
   "cell_type": "markdown",
   "metadata": {},
   "source": [
    "### Testing Softmax on Rice"
   ]
  },
  {
   "cell_type": "code",
   "execution_count": null,
   "metadata": {},
   "outputs": [],
   "source": [
    "pred_softmax = softmax_RICE.predict(X_test_RICE)\n",
    "print('The testing accuracy is given by: %f' % (get_acc(pred_softmax, y_test_RICE)))"
   ]
  },
  {
   "cell_type": "markdown",
   "metadata": {},
   "source": [
    "# Logistic Classifier"
   ]
  },
  {
   "cell_type": "markdown",
   "metadata": {},
   "source": [
    "The Logistic Classifier has 2 hyperparameters that you can experiment with:\n",
    "- **Learning rate** - similar to as defined above in Perceptron, this parameter scales by how much the weights are changed according to the calculated gradient update. \n",
    "- **Number of Epochs** - As described for perceptron.\n",
    "- **Threshold** - The decision boundary of the classifier.\n"
   ]
  },
  {
   "cell_type": "markdown",
   "metadata": {},
   "source": [
    "You will implement the Logistic Classifier in the **models/logistic.py**\n",
    "\n",
    "The following code: \n",
    "- Creates an instance of the Logistic classifier class \n",
    "- The train function of the Logistic class is trained on the training data\n",
    "- We use the predict function to find the training accuracy as well as the testing accuracy"
   ]
  },
  {
   "cell_type": "markdown",
   "metadata": {},
   "source": [
    "### Training Logistic Classifer"
   ]
  },
  {
   "cell_type": "code",
   "execution_count": null,
   "metadata": {},
   "outputs": [],
   "source": [
    "learning_rate = 0.5\n",
    "n_epochs = 10\n",
    "threshold = 0.5\n",
    "\n",
    "lr = Logistic(learning_rate, n_epochs, threshold)\n",
    "lr.train(X_train_RICE, y_train_RICE)"
   ]
  },
  {
   "cell_type": "code",
   "execution_count": null,
   "metadata": {},
   "outputs": [],
   "source": [
    "pred_lr = lr.predict(X_train_RICE)\n",
    "print('The training accuracy is given by: %f' % (get_acc(pred_lr, y_train_RICE)))"
   ]
  },
  {
   "cell_type": "markdown",
   "metadata": {},
   "source": [
    "### Validate Logistic Classifer"
   ]
  },
  {
   "cell_type": "code",
   "execution_count": null,
   "metadata": {},
   "outputs": [],
   "source": [
    "pred_lr = lr.predict(X_val_RICE)\n",
    "print('The validation accuracy is given by: %f' % (get_acc(pred_lr, y_val_RICE)))"
   ]
  },
  {
   "cell_type": "markdown",
   "metadata": {},
   "source": [
    "### Test Logistic Classifier"
   ]
  },
  {
   "cell_type": "code",
   "execution_count": null,
   "metadata": {},
   "outputs": [],
   "source": [
    "pred_lr = lr.predict(X_test_RICE)\n",
    "print('The testing accuracy is given by: %f' % (get_acc(pred_lr, y_test_RICE)))"
   ]
  },
  {
   "cell_type": "code",
   "execution_count": null,
   "metadata": {},
   "outputs": [],
   "source": []
  }
 ],
 "metadata": {
  "kernelspec": {
   "display_name": "Python 3 (ipykernel)",
   "language": "python",
   "name": "python3"
  },
  "language_info": {
   "codemirror_mode": {
    "name": "ipython",
    "version": 3
   },
   "file_extension": ".py",
   "mimetype": "text/x-python",
   "name": "python",
   "nbconvert_exporter": "python",
   "pygments_lexer": "ipython3",
   "version": "3.11.7"
  },
  "vscode": {
   "interpreter": {
    "hash": "397704579725e15f5c7cb49fe5f0341eb7531c82d19f2c29d197e8b64ab5776b"
   }
  }
 },
 "nbformat": 4,
 "nbformat_minor": 4
}
