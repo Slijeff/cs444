{
 "cells": [
  {
   "attachments": {},
   "cell_type": "markdown",
   "metadata": {},
   "source": [
    "# (Optional) Colab Setup\n",
    "If you aren't using Colab, you can delete the following code cell. This is just to help students with mounting to Google Drive to access the other .py files and downloading the data, which is a little trickier on Colab than on your local machine using Jupyter. "
   ]
  },
  {
   "cell_type": "code",
   "execution_count": 1,
   "metadata": {
    "ExecuteTime": {
     "end_time": "2024-02-05T22:30:09.150270600Z",
     "start_time": "2024-02-05T22:30:09.109935800Z"
    }
   },
   "outputs": [],
   "source": [
    "# you will be prompted with a window asking to grant permissions\n",
    "# from google.colab import drive\n",
    "# drive.mount(\"/content/drive\")"
   ]
  },
  {
   "cell_type": "code",
   "execution_count": 2,
   "metadata": {
    "ExecuteTime": {
     "end_time": "2024-02-05T22:30:09.152371400Z",
     "start_time": "2024-02-05T22:30:09.118206700Z"
    }
   },
   "outputs": [],
   "source": [
    "# fill in the path in your Google Drive in the string below. Note: do not escape slashes or spaces\n",
    "# import os\n",
    "# datadir = \"/content/assignment1\"\n",
    "# if not os.path.exists(datadir):\n",
    "#   !ln -s \"/content/drive/My Drive/YOUR PATH HERE/assignment1/\" $datadir\n",
    "# os.chdir(datadir)\n",
    "# !pwd"
   ]
  },
  {
   "cell_type": "code",
   "execution_count": 3,
   "metadata": {
    "ExecuteTime": {
     "end_time": "2024-02-05T22:30:09.155444700Z",
     "start_time": "2024-02-05T22:30:09.124010600Z"
    }
   },
   "outputs": [],
   "source": [
    "# downloading Fashion-MNIST\n",
    "# import os\n",
    "# os.chdir(os.path.join(datadir,\"fashion-mnist/\"))\n",
    "# !chmod +x ./get_data.sh\n",
    "# !./get_data.sh\n",
    "# os.chdir(datadir)"
   ]
  },
  {
   "attachments": {},
   "cell_type": "markdown",
   "metadata": {},
   "source": [
    "# Imports"
   ]
  },
  {
   "cell_type": "code",
   "execution_count": 4,
   "metadata": {
    "ExecuteTime": {
     "end_time": "2024-02-05T22:30:19.803306800Z",
     "start_time": "2024-02-05T22:30:09.133952900Z"
    }
   },
   "outputs": [],
   "source": [
    "import random\n",
    "import numpy as np\n",
    "from data_process import get_FASHION_data, get_RICE_data\n",
    "from scipy.spatial import distance\n",
    "from models import Perceptron, SVM, Softmax, Logistic\n",
    "from kaggle_submission import output_submission_csv\n",
    "%matplotlib inline\n",
    "np.random.seed(441)\n",
    "# For auto-reloading external modules\n",
    "# See http://stackoverflow.com/questions/1907993/autoreload-of-modules-in-ipython\n",
    "%load_ext autoreload\n",
    "%autoreload 2"
   ]
  },
  {
   "cell_type": "markdown",
   "metadata": {},
   "source": [
    "# Loading Fashion-MNIST"
   ]
  },
  {
   "cell_type": "markdown",
   "metadata": {},
   "source": [
    "In the following cells we determine the number of images for each split and load the images.\n",
    "<br /> \n",
    "TRAIN_IMAGES + VAL_IMAGES = (0, 60000]\n",
    ", TEST_IMAGES = 10000"
   ]
  },
  {
   "cell_type": "code",
   "execution_count": 5,
   "metadata": {
    "ExecuteTime": {
     "end_time": "2024-02-05T22:30:19.869115900Z",
     "start_time": "2024-02-05T22:30:19.805414300Z"
    }
   },
   "outputs": [],
   "source": [
    "# You can change these numbers for experimentation\n",
    "# For submission we will use the default values \n",
    "TRAIN_IMAGES = 50000\n",
    "VAL_IMAGES = 10000\n",
    "normalize = True"
   ]
  },
  {
   "cell_type": "code",
   "execution_count": 6,
   "metadata": {
    "ExecuteTime": {
     "end_time": "2024-02-05T22:30:20.519096100Z",
     "start_time": "2024-02-05T22:30:19.861769700Z"
    }
   },
   "outputs": [],
   "source": [
    "data = get_FASHION_data(TRAIN_IMAGES, VAL_IMAGES, normalize=normalize)\n",
    "X_train_fashion, y_train_fashion = data['X_train'], data['y_train']\n",
    "X_val_fashion, y_val_fashion = data['X_val'], data['y_val']\n",
    "X_test_fashion, y_test_fashion = data['X_test'], data['y_test']\n",
    "n_class_fashion = len(np.unique(y_test_fashion))"
   ]
  },
  {
   "attachments": {},
   "cell_type": "markdown",
   "metadata": {},
   "source": [
    "# Loading Rice"
   ]
  },
  {
   "cell_type": "code",
   "execution_count": 7,
   "metadata": {
    "ExecuteTime": {
     "end_time": "2024-02-05T22:30:20.790959900Z",
     "start_time": "2024-02-05T22:30:20.521131900Z"
    }
   },
   "outputs": [
    {
     "name": "stdout",
     "output_type": "stream",
     "text": [
      "Number of train samples:  10911\n",
      "Number of val samples:  3637\n",
      "Number of test samples:  3637\n"
     ]
    }
   ],
   "source": [
    "# loads train / test / val splits of 80%, 20%, 20% \n",
    "data = get_RICE_data()\n",
    "X_train_RICE, y_train_RICE = data['X_train'], data['y_train']\n",
    "X_val_RICE, y_val_RICE = data['X_val'], data['y_val']\n",
    "X_test_RICE, y_test_RICE = data['X_test'], data['y_test']\n",
    "n_class_RICE = len(np.unique(y_test_RICE))\n",
    "\n",
    "print(\"Number of train samples: \", X_train_RICE.shape[0])\n",
    "print(\"Number of val samples: \", X_val_RICE.shape[0])\n",
    "print(\"Number of test samples: \", X_test_RICE.shape[0])"
   ]
  },
  {
   "cell_type": "markdown",
   "metadata": {},
   "source": [
    "### Get Accuracy"
   ]
  },
  {
   "cell_type": "markdown",
   "metadata": {},
   "source": [
    "This function computes how well your model performs using accuracy as a metric."
   ]
  },
  {
   "cell_type": "code",
   "execution_count": 8,
   "metadata": {
    "ExecuteTime": {
     "end_time": "2024-02-05T22:30:20.853293900Z",
     "start_time": "2024-02-05T22:30:20.790959900Z"
    }
   },
   "outputs": [],
   "source": [
    "def get_acc(pred, y_test):\n",
    "    return np.sum(y_test == pred) / len(y_test) * 100"
   ]
  },
  {
   "cell_type": "markdown",
   "metadata": {},
   "source": [
    "# Perceptron"
   ]
  },
  {
   "cell_type": "markdown",
   "metadata": {},
   "source": [
    "Perceptron has 2 hyperparameters that you can experiment with:\n",
    "### Learning rate\n",
    "The learning rate controls how much we change the current weights of the classifier during each update. We set it at a default value of 0.5, but you should experiment with different values. Here is a guide to help you find a right learning rate: \n",
    "- Try values ranging from 5.0 to 0.0005 to see the impact on model accuracy. \n",
    "- If the accuracy fluctuates a lot or diverges, the learning rate is too high. Try decreasing it by a factor of 10 (e.g. from 0.5 to 0.05). \n",
    "- If the accuracy is changing very slowly, the learning rate may be too low. Try increasing it by a factor of 10.\n",
    "- You can also try adding a learning rate decay to slowly reduce the learning rate over each training epoch. For example, multiply the learning rate by 0.95 after each epoch.\n",
    "- Plot training and validation accuracy over epochs for different learning rates. This will help you visualize the impact of the learning rate.\n",
    "- [Here](https://towardsdatascience.com/https-medium-com-dashingaditya-rakhecha-understanding-learning-rate-dd5da26bb6de) is a detailed guide to learning rate.\n",
    "\n",
    "### Number of Epochs\n",
    "An epoch is a complete iterative pass over all of the data in the dataset. During an epoch we predict a label using the classifier and then update the weights of the classifier according to the perceptron update rule for each sample in the training set. You should try different values for the number of training epochs and report your results."
   ]
  },
  {
   "cell_type": "markdown",
   "metadata": {},
   "source": [
    "You will implement the Perceptron classifier in the **models/perceptron.py**\n",
    "\n",
    "The following code: \n",
    "- Creates an instance of the Perceptron classifier class \n",
    "- The train function of the Perceptron class is trained on the training data\n",
    "- We use the predict function to find the training accuracy as well as the testing accuracy\n"
   ]
  },
  {
   "cell_type": "markdown",
   "metadata": {},
   "source": [
    "## Train Perceptron on Fashion-MNIST"
   ]
  },
  {
   "cell_type": "code",
   "execution_count": 70,
   "metadata": {
    "ExecuteTime": {
     "end_time": "2024-02-05T22:30:33.787576Z",
     "start_time": "2024-02-05T22:30:20.846085800Z"
    }
   },
   "outputs": [
    {
     "name": "stdout",
     "output_type": "stream",
     "text": [
      "Epoch 0, error: 0.37646, lr: 0.0485\n",
      "Epoch 1, error: 0.32118, lr: 0.047045000000000003\n",
      "Epoch 2, error: 0.31028, lr: 0.045633650000000005\n",
      "Epoch 3, error: 0.30388, lr: 0.0442646405\n",
      "Epoch 4, error: 0.29798, lr: 0.042936701285\n",
      "Epoch 5, error: 0.29342, lr: 0.04164860024644999\n",
      "Epoch 6, error: 0.2898, lr: 0.040399142239056496\n",
      "Epoch 7, error: 0.28584, lr: 0.0391871679718848\n",
      "Epoch 8, error: 0.28362, lr: 0.03801155293272825\n",
      "Epoch 9, error: 0.28184, lr: 0.0368712063447464\n",
      "Epoch 10, error: 0.27844, lr: 0.035765070154404006\n",
      "Epoch 11, error: 0.27762, lr: 0.03469211804977188\n",
      "Epoch 12, error: 0.2765, lr: 0.033651354508278726\n",
      "Epoch 13, error: 0.27254, lr: 0.03264181387303036\n",
      "Epoch 14, error: 0.27084, lr: 0.03166255945683945\n",
      "Epoch 15, error: 0.27098, lr: 0.030712682673134265\n",
      "Epoch 16, error: 0.26722, lr: 0.029791302192940235\n",
      "Epoch 17, error: 0.26642, lr: 0.028897563127152026\n",
      "Epoch 18, error: 0.26778, lr: 0.028030636233337465\n",
      "Epoch 19, error: 0.26708, lr: 0.02718971714633734\n",
      "Epoch 20, error: 0.26462, lr: 0.02637402563194722\n",
      "Epoch 21, error: 0.2647, lr: 0.025582804862988803\n",
      "Epoch 22, error: 0.26096, lr: 0.02481532071709914\n",
      "Epoch 23, error: 0.26044, lr: 0.024070861095586163\n",
      "Epoch 24, error: 0.25954, lr: 0.02334873526271858\n",
      "Epoch 25, error: 0.25812, lr: 0.02264827320483702\n",
      "Epoch 26, error: 0.25724, lr: 0.02196882500869191\n",
      "Epoch 27, error: 0.25556, lr: 0.021309760258431152\n",
      "Epoch 28, error: 0.25538, lr: 0.02067046745067822\n",
      "Epoch 29, error: 0.2563, lr: 0.02005035342715787\n",
      "Epoch 30, error: 0.25328, lr: 0.019448842824343136\n",
      "Epoch 31, error: 0.25182, lr: 0.018865377539612843\n",
      "Epoch 32, error: 0.25192, lr: 0.018299416213424458\n",
      "Epoch 33, error: 0.25106, lr: 0.017750433727021724\n",
      "Epoch 34, error: 0.24958, lr: 0.017217920715211072\n",
      "Epoch 35, error: 0.24846, lr: 0.01670138309375474\n",
      "Epoch 36, error: 0.25082, lr: 0.016200341600942098\n",
      "Epoch 37, error: 0.2497, lr: 0.015714331352913835\n",
      "Epoch 38, error: 0.2469, lr: 0.01524290141232642\n",
      "Epoch 39, error: 0.24604, lr: 0.014785614369956627\n",
      "Epoch 40, error: 0.24516, lr: 0.014342045938857928\n",
      "Epoch 41, error: 0.24736, lr: 0.01391178456069219\n",
      "Epoch 42, error: 0.2441, lr: 0.013494431023871425\n",
      "Epoch 43, error: 0.2441, lr: 0.013089598093155281\n",
      "Epoch 44, error: 0.24376, lr: 0.012696910150360622\n",
      "Epoch 45, error: 0.24262, lr: 0.012316002845849803\n",
      "Epoch 46, error: 0.24262, lr: 0.011946522760474308\n",
      "Epoch 47, error: 0.2419, lr: 0.011588127077660078\n",
      "Epoch 48, error: 0.2428, lr: 0.011240483265330276\n",
      "Epoch 49, error: 0.23858, lr: 0.010903268767370368\n"
     ]
    }
   ],
   "source": [
    "lr = 0.05\n",
    "n_epochs = 50\n",
    "\n",
    "percept_fashion = Perceptron(n_class_fashion, lr, n_epochs)\n",
    "percept_fashion.train(X_train_fashion, y_train_fashion)"
   ]
  },
  {
   "cell_type": "code",
   "execution_count": 73,
   "metadata": {
    "ExecuteTime": {
     "end_time": "2024-02-05T22:30:33.890794300Z",
     "start_time": "2024-02-05T22:30:33.781406200Z"
    }
   },
   "outputs": [
    {
     "name": "stdout",
     "output_type": "stream",
     "text": [
      "The training accuracy is given by: 80.110000\n"
     ]
    }
   ],
   "source": [
    "pred_percept = percept_fashion.predict(X_train_fashion)\n",
    "print('The training accuracy is given by: %f' % (get_acc(pred_percept, y_train_fashion)))"
   ]
  },
  {
   "cell_type": "markdown",
   "metadata": {},
   "source": [
    "### Validate Perceptron on Fashion-MNIST"
   ]
  },
  {
   "cell_type": "code",
   "execution_count": 74,
   "metadata": {
    "ExecuteTime": {
     "end_time": "2024-02-05T22:30:33.955316100Z",
     "start_time": "2024-02-05T22:30:33.884479300Z"
    }
   },
   "outputs": [
    {
     "name": "stdout",
     "output_type": "stream",
     "text": [
      "The validation accuracy is given by: 77.760000\n"
     ]
    }
   ],
   "source": [
    "pred_percept = percept_fashion.predict(X_val_fashion)\n",
    "print('The validation accuracy is given by: %f' % (get_acc(pred_percept, y_val_fashion)))"
   ]
  },
  {
   "cell_type": "markdown",
   "metadata": {},
   "source": [
    "### Test Perceptron on Fashion-MNIST"
   ]
  },
  {
   "cell_type": "code",
   "execution_count": 75,
   "metadata": {
    "ExecuteTime": {
     "end_time": "2024-02-05T22:30:34.029151600Z",
     "start_time": "2024-02-05T22:30:33.951204800Z"
    }
   },
   "outputs": [
    {
     "name": "stdout",
     "output_type": "stream",
     "text": [
      "The testing accuracy is given by: 76.580000\n"
     ]
    }
   ],
   "source": [
    "pred_percept = percept_fashion.predict(X_test_fashion)\n",
    "print('The testing accuracy is given by: %f' % (get_acc(pred_percept, y_test_fashion)))"
   ]
  },
  {
   "cell_type": "markdown",
   "metadata": {},
   "source": [
    "### Perceptron_Fashion-MNIST Kaggle Submission\n",
    "\n",
    "Once you are satisfied with your solution and test accuracy, output a file to submit your test set predictions to the Kaggle for Assignment 1 Fashion-MNIST. Use the following code to do so:"
   ]
  },
  {
   "cell_type": "code",
   "execution_count": 26,
   "metadata": {
    "ExecuteTime": {
     "end_time": "2024-02-05T22:30:34.094382600Z",
     "start_time": "2024-02-05T22:30:34.022869500Z"
    }
   },
   "outputs": [],
   "source": [
    "# output_submission_csv('kaggle/perceptron_submission_fashion.csv', percept_fashion.predict(X_test_fashion))"
   ]
  },
  {
   "attachments": {},
   "cell_type": "markdown",
   "metadata": {},
   "source": [
    "## Train Perceptron on Rice"
   ]
  },
  {
   "cell_type": "code",
   "execution_count": 64,
   "metadata": {
    "ExecuteTime": {
     "end_time": "2024-02-05T22:30:36.521781800Z",
     "start_time": "2024-02-05T22:30:34.082917800Z"
    }
   },
   "outputs": [
    {
     "name": "stdout",
     "output_type": "stream",
     "text": [
      "Epoch 0, error: 0.2803592704610027, lr: 0.0001\n",
      "Epoch 1, error: 0.26047108422692694, lr: 0.0001\n",
      "Epoch 2, error: 0.23719182476399964, lr: 0.0001\n",
      "Epoch 3, error: 0.18458436440289616, lr: 0.0001\n",
      "Epoch 4, error: 0.14737420951333516, lr: 0.0001\n",
      "Epoch 5, error: 0.0959582073137201, lr: 0.0001\n",
      "Epoch 6, error: 0.08761800018330125, lr: 0.0001\n",
      "Epoch 7, error: 0.08816790395014205, lr: 0.0001\n",
      "Epoch 8, error: 0.05902300430757951, lr: 0.0001\n",
      "Epoch 9, error: 0.057098341123636695, lr: 0.0001\n",
      "Epoch 10, error: 0.04967464027128586, lr: 0.0001\n",
      "Epoch 11, error: 0.047200073320502245, lr: 0.0001\n",
      "Epoch 12, error: 0.03702685363394739, lr: 0.0001\n",
      "Epoch 13, error: 0.038951516817890205, lr: 0.0001\n",
      "Epoch 14, error: 0.032535972871414166, lr: 0.0001\n"
     ]
    }
   ],
   "source": [
    "lr = 0.0001\n",
    "n_epochs = 15\n",
    "\n",
    "percept_RICE = Perceptron(n_class_RICE, lr, n_epochs)\n",
    "percept_RICE.train(X_train_RICE, y_train_RICE)"
   ]
  },
  {
   "cell_type": "code",
   "execution_count": 65,
   "metadata": {
    "ExecuteTime": {
     "end_time": "2024-02-05T22:30:36.578326300Z",
     "start_time": "2024-02-05T22:30:36.517587500Z"
    }
   },
   "outputs": [
    {
     "name": "stdout",
     "output_type": "stream",
     "text": [
      "The training accuracy is given by: 99.193474\n"
     ]
    }
   ],
   "source": [
    "pred_percept = percept_RICE.predict(X_train_RICE)\n",
    "print('The training accuracy is given by: %f' % (get_acc(pred_percept, y_train_RICE)))"
   ]
  },
  {
   "attachments": {},
   "cell_type": "markdown",
   "metadata": {},
   "source": [
    "### Validate Perceptron on Rice"
   ]
  },
  {
   "cell_type": "code",
   "execution_count": 66,
   "metadata": {
    "ExecuteTime": {
     "end_time": "2024-02-05T22:30:36.638387800Z",
     "start_time": "2024-02-05T22:30:36.578326300Z"
    }
   },
   "outputs": [
    {
     "name": "stdout",
     "output_type": "stream",
     "text": [
      "The validation accuracy is given by: 99.257630\n"
     ]
    }
   ],
   "source": [
    "pred_percept = percept_RICE.predict(X_val_RICE)\n",
    "print('The validation accuracy is given by: %f' % (get_acc(pred_percept, y_val_RICE)))"
   ]
  },
  {
   "attachments": {},
   "cell_type": "markdown",
   "metadata": {},
   "source": [
    "### Test Perceptron on Rice"
   ]
  },
  {
   "cell_type": "code",
   "execution_count": 67,
   "metadata": {
    "ExecuteTime": {
     "end_time": "2024-02-05T22:30:36.700234100Z",
     "start_time": "2024-02-05T22:30:36.638387800Z"
    }
   },
   "outputs": [
    {
     "name": "stdout",
     "output_type": "stream",
     "text": [
      "The testing accuracy is given by: 99.120154\n"
     ]
    }
   ],
   "source": [
    "pred_percept = percept_RICE.predict(X_test_RICE)\n",
    "print('The testing accuracy is given by: %f' % (get_acc(pred_percept, y_test_RICE)))"
   ]
  },
  {
   "cell_type": "markdown",
   "metadata": {},
   "source": [
    "# Support Vector Machines (with SGD)"
   ]
  },
  {
   "cell_type": "markdown",
   "metadata": {},
   "source": [
    "Next, you will implement a \"soft margin\" SVM. In this formulation you will maximize the margin between positive and negative training examples and penalize margin violations using a hinge loss.\n",
    "\n",
    "We will optimize the SVM loss using SGD. This means you must compute the loss function with respect to model weights. You will use this gradient to update the model weights.\n",
    "\n",
    "SVM optimized with SGD has 3 hyperparameters that you can experiment with:\n",
    "- **Learning rate** - similar to as defined above in Perceptron, this parameter scales by how much the weights are changed according to the calculated gradient update. \n",
    "- **Epochs** - similar to as defined above in Perceptron.\n",
    "- **Regularization constant** - Hyperparameter to determine the strength of regularization. In this case it is a coefficient on the term which maximizes the margin. You could try different values. The default value is set to 0.05."
   ]
  },
  {
   "cell_type": "markdown",
   "metadata": {},
   "source": [
    "You will implement the SVM using SGD in the **models/svm.py**\n",
    "\n",
    "The following code: \n",
    "- Creates an instance of the SVM classifier class \n",
    "- The train function of the SVM class is trained on the training data\n",
    "- We use the predict function to find the training accuracy as well as the testing accuracy"
   ]
  },
  {
   "cell_type": "markdown",
   "metadata": {},
   "source": [
    "## Train SVM on Fashion-MNIST"
   ]
  },
  {
   "cell_type": "code",
   "execution_count": 155,
   "metadata": {
    "ExecuteTime": {
     "end_time": "2024-02-05T23:04:14.186460900Z",
     "start_time": "2024-02-05T23:04:14.022598500Z"
    }
   },
   "outputs": [
    {
     "name": "stdout",
     "output_type": "stream",
     "text": [
      "epoch 1 / 50, error: 0.88572, lr: 0.004\n",
      "epoch 2 / 50, error: 0.32577999999999996, lr: 0.00392\n",
      "epoch 3 / 50, error: 0.28706, lr: 0.0038415999999999997\n",
      "epoch 4 / 50, error: 0.26912, lr: 0.0037647679999999995\n",
      "epoch 5 / 50, error: 0.25622, lr: 0.0036894726399999992\n",
      "epoch 6 / 50, error: 0.24768, lr: 0.003615683187199999\n",
      "epoch 7 / 50, error: 0.24097999999999997, lr: 0.0035433695234559992\n",
      "epoch 8 / 50, error: 0.23582000000000003, lr: 0.003472502132986879\n",
      "epoch 9 / 50, error: 0.23185999999999996, lr: 0.0034030520903271413\n",
      "epoch 10 / 50, error: 0.22792, lr: 0.0033349910485205984\n",
      "epoch 11 / 50, error: 0.22528000000000004, lr: 0.003268291227550186\n",
      "epoch 12 / 50, error: 0.22306000000000004, lr: 0.0032029254029991823\n",
      "epoch 13 / 50, error: 0.22065999999999997, lr: 0.003138866894939199\n",
      "epoch 14 / 50, error: 0.21840000000000004, lr: 0.003076089557040415\n",
      "epoch 15 / 50, error: 0.21667999999999998, lr: 0.0030145677658996064\n",
      "epoch 16 / 50, error: 0.21475999999999995, lr: 0.0029542764105816143\n",
      "epoch 17 / 50, error: 0.2136, lr: 0.002895190882369982\n",
      "epoch 18 / 50, error: 0.21211999999999998, lr: 0.002895190882369982\n",
      "epoch 19 / 50, error: 0.21106000000000003, lr: 0.002895190882369982\n",
      "epoch 20 / 50, error: 0.21042000000000005, lr: 0.002895190882369982\n",
      "epoch 21 / 50, error: 0.2097, lr: 0.002895190882369982\n",
      "epoch 22 / 50, error: 0.20838, lr: 0.002895190882369982\n",
      "epoch 23 / 50, error: 0.20704, lr: 0.002895190882369982\n",
      "epoch 24 / 50, error: 0.20594, lr: 0.002895190882369982\n",
      "epoch 25 / 50, error: 0.20508000000000004, lr: 0.002895190882369982\n",
      "epoch 26 / 50, error: 0.20423999999999998, lr: 0.002895190882369982\n",
      "epoch 27 / 50, error: 0.20342000000000005, lr: 0.002895190882369982\n",
      "epoch 28 / 50, error: 0.20240000000000002, lr: 0.002895190882369982\n",
      "epoch 29 / 50, error: 0.20154000000000005, lr: 0.002895190882369982\n",
      "epoch 30 / 50, error: 0.20077999999999996, lr: 0.002895190882369982\n",
      "epoch 31 / 50, error: 0.20013999999999998, lr: 0.002895190882369982\n",
      "epoch 32 / 50, error: 0.19945999999999997, lr: 0.002895190882369982\n",
      "epoch 33 / 50, error: 0.19901999999999997, lr: 0.002895190882369982\n",
      "epoch 34 / 50, error: 0.19810000000000005, lr: 0.002895190882369982\n",
      "epoch 35 / 50, error: 0.19733999999999996, lr: 0.002895190882369982\n",
      "epoch 36 / 50, error: 0.19689999999999996, lr: 0.002895190882369982\n",
      "epoch 37 / 50, error: 0.19640000000000002, lr: 0.002895190882369982\n",
      "epoch 38 / 50, error: 0.19633999999999996, lr: 0.002895190882369982\n",
      "epoch 39 / 50, error: 0.19576000000000005, lr: 0.002895190882369982\n",
      "epoch 40 / 50, error: 0.19530000000000003, lr: 0.002895190882369982\n",
      "epoch 41 / 50, error: 0.19472, lr: 0.002895190882369982\n",
      "epoch 42 / 50, error: 0.19457999999999998, lr: 0.002895190882369982\n",
      "epoch 43 / 50, error: 0.19430000000000003, lr: 0.002895190882369982\n",
      "epoch 44 / 50, error: 0.19399999999999995, lr: 0.002895190882369982\n",
      "epoch 45 / 50, error: 0.19364000000000003, lr: 0.002895190882369982\n",
      "epoch 46 / 50, error: 0.19320000000000004, lr: 0.002895190882369982\n",
      "epoch 47 / 50, error: 0.19289999999999996, lr: 0.002895190882369982\n",
      "epoch 48 / 50, error: 0.19242000000000004, lr: 0.002895190882369982\n",
      "epoch 49 / 50, error: 0.19199999999999995, lr: 0.002895190882369982\n",
      "epoch 50 / 50, error: 0.19138, lr: 0.002895190882369982\n"
     ]
    }
   ],
   "source": [
    "lr = 0.004\n",
    "n_epochs = 50\n",
    "reg_const = 0.03\n",
    "\n",
    "svm_fashion = SVM(n_class_fashion, lr, n_epochs, reg_const)\n",
    "svm_fashion.train(X_train_fashion, y_train_fashion)"
   ]
  },
  {
   "cell_type": "code",
   "execution_count": 156,
   "metadata": {},
   "outputs": [
    {
     "name": "stdout",
     "output_type": "stream",
     "text": [
      "The training accuracy is given by: 80.868000\n"
     ]
    }
   ],
   "source": [
    "pred_svm = svm_fashion.predict(X_train_fashion)\n",
    "print('The training accuracy is given by: %f' % (get_acc(pred_svm, y_train_fashion)))"
   ]
  },
  {
   "cell_type": "markdown",
   "metadata": {},
   "source": [
    "### Validate SVM on Fashion-MNIST"
   ]
  },
  {
   "cell_type": "code",
   "execution_count": 157,
   "metadata": {},
   "outputs": [
    {
     "name": "stdout",
     "output_type": "stream",
     "text": [
      "The validation accuracy is given by: 79.600000\n"
     ]
    }
   ],
   "source": [
    "pred_svm = svm_fashion.predict(X_val_fashion)\n",
    "print('The validation accuracy is given by: %f' % (get_acc(pred_svm, y_val_fashion)))"
   ]
  },
  {
   "cell_type": "markdown",
   "metadata": {},
   "source": [
    "### Test SVM on Fashion-MNIST"
   ]
  },
  {
   "cell_type": "code",
   "execution_count": 158,
   "metadata": {},
   "outputs": [
    {
     "name": "stdout",
     "output_type": "stream",
     "text": [
      "The testing accuracy is given by: 78.350000\n"
     ]
    }
   ],
   "source": [
    "pred_svm = svm_fashion.predict(X_test_fashion)\n",
    "print('The testing accuracy is given by: %f' % (get_acc(pred_svm, y_test_fashion)))"
   ]
  },
  {
   "cell_type": "markdown",
   "metadata": {},
   "source": [
    "### SVM_Fashion-MNIST Kaggle Submission\n",
    "\n",
    "Once you are satisfied with your solution and test accuracy output a file to submit your test set predictions to the Kaggle for Assignment 1 Fashion-MNIST. Use the following code to do so:"
   ]
  },
  {
   "cell_type": "code",
   "execution_count": 154,
   "metadata": {},
   "outputs": [],
   "source": [
    "# output_submission_csv('kaggle/svm_submission_fashion.csv', svm_fashion.predict(X_test_fashion))"
   ]
  },
  {
   "attachments": {},
   "cell_type": "markdown",
   "metadata": {},
   "source": [
    "## Train SVM on Rice"
   ]
  },
  {
   "cell_type": "code",
   "execution_count": 161,
   "metadata": {},
   "outputs": [
    {
     "name": "stdout",
     "output_type": "stream",
     "text": [
      "epoch 1 / 50, error: 0.5477958024012464, lr: 0.003\n",
      "epoch 2 / 50, error: 0.10374851067729818, lr: 0.00294\n",
      "epoch 3 / 50, error: 0.03226102098799377, lr: 0.0028812\n",
      "epoch 4 / 50, error: 0.03244432224360738, lr: 0.002823576\n",
      "epoch 5 / 50, error: 0.03345247914948213, lr: 0.00276710448\n",
      "epoch 6 / 50, error: 0.03299422601044821, lr: 0.0027117623904\n",
      "epoch 7 / 50, error: 0.03299422601044821, lr: 0.002657527142592\n",
      "epoch 8 / 50, error: 0.0328109247548346, lr: 0.00260437659974016\n",
      "epoch 9 / 50, error: 0.03299422601044821, lr: 0.0025522890677453568\n",
      "epoch 10 / 50, error: 0.03207771973238016, lr: 0.0025012432863904498\n",
      "epoch 11 / 50, error: 0.03244432224360738, lr: 0.002451218420662641\n",
      "epoch 12 / 50, error: 0.03235267161580058, lr: 0.002402194052249388\n",
      "epoch 13 / 50, error: 0.03207771973238016, lr: 0.0023541501712044\n",
      "epoch 14 / 50, error: 0.03189441847676655, lr: 0.002307067167780312\n",
      "epoch 15 / 50, error: 0.03235267161580058, lr: 0.002260925824424706\n",
      "epoch 16 / 50, error: 0.03262762349922099, lr: 0.002215707307936212\n",
      "epoch 17 / 50, error: 0.0327192741270278, lr: 0.002171393161777488\n",
      "epoch 18 / 50, error: 0.03244432224360738, lr: 0.002171393161777488\n",
      "epoch 19 / 50, error: 0.03226102098799377, lr: 0.002171393161777488\n",
      "epoch 20 / 50, error: 0.031986069104573356, lr: 0.002171393161777488\n",
      "epoch 21 / 50, error: 0.031986069104573356, lr: 0.002171393161777488\n",
      "epoch 22 / 50, error: 0.031986069104573356, lr: 0.002171393161777488\n",
      "epoch 23 / 50, error: 0.03189441847676655, lr: 0.002171393161777488\n",
      "epoch 24 / 50, error: 0.03189441847676655, lr: 0.002171393161777488\n",
      "epoch 25 / 50, error: 0.031802767848959745, lr: 0.002171393161777488\n",
      "epoch 26 / 50, error: 0.03189441847676655, lr: 0.002171393161777488\n",
      "epoch 27 / 50, error: 0.031802767848959745, lr: 0.002171393161777488\n",
      "epoch 28 / 50, error: 0.031802767848959745, lr: 0.002171393161777488\n",
      "epoch 29 / 50, error: 0.03171111722115294, lr: 0.002171393161777488\n",
      "epoch 30 / 50, error: 0.03152781596553933, lr: 0.002171393161777488\n",
      "epoch 31 / 50, error: 0.03152781596553933, lr: 0.002171393161777488\n",
      "epoch 32 / 50, error: 0.03152781596553933, lr: 0.002171393161777488\n",
      "epoch 33 / 50, error: 0.031252864082118914, lr: 0.002171393161777488\n",
      "epoch 34 / 50, error: 0.03116121345431211, lr: 0.002171393161777488\n",
      "epoch 35 / 50, error: 0.031069562826505415, lr: 0.002171393161777488\n",
      "epoch 36 / 50, error: 0.030886261570891804, lr: 0.002171393161777488\n",
      "epoch 37 / 50, error: 0.030794610943085, lr: 0.002171393161777488\n",
      "epoch 38 / 50, error: 0.030886261570891804, lr: 0.002171393161777488\n",
      "epoch 39 / 50, error: 0.030794610943085, lr: 0.002171393161777488\n",
      "epoch 40 / 50, error: 0.03061130968747139, lr: 0.002171393161777488\n",
      "epoch 41 / 50, error: 0.030702960315278194, lr: 0.002171393161777488\n",
      "epoch 42 / 50, error: 0.030702960315278194, lr: 0.002171393161777488\n",
      "epoch 43 / 50, error: 0.030794610943085, lr: 0.002171393161777488\n",
      "epoch 44 / 50, error: 0.030794610943085, lr: 0.002171393161777488\n",
      "epoch 45 / 50, error: 0.030702960315278194, lr: 0.002171393161777488\n",
      "epoch 46 / 50, error: 0.030702960315278194, lr: 0.002171393161777488\n",
      "epoch 47 / 50, error: 0.030702960315278194, lr: 0.002171393161777488\n",
      "epoch 48 / 50, error: 0.030702960315278194, lr: 0.002171393161777488\n",
      "epoch 49 / 50, error: 0.030702960315278194, lr: 0.002171393161777488\n",
      "epoch 50 / 50, error: 0.030702960315278194, lr: 0.002171393161777488\n"
     ]
    }
   ],
   "source": [
    "lr = 0.003\n",
    "n_epochs = 50\n",
    "reg_const = 0.05\n",
    "\n",
    "svm_RICE = SVM(n_class_RICE, lr, n_epochs, reg_const)\n",
    "svm_RICE.train(X_train_RICE, y_train_RICE)"
   ]
  },
  {
   "cell_type": "code",
   "execution_count": 162,
   "metadata": {},
   "outputs": [
    {
     "name": "stdout",
     "output_type": "stream",
     "text": [
      "The training accuracy is given by: 96.920539\n"
     ]
    }
   ],
   "source": [
    "pred_svm = svm_RICE.predict(X_train_RICE)\n",
    "print('The training accuracy is given by: %f' % (get_acc(pred_svm, y_train_RICE)))"
   ]
  },
  {
   "attachments": {},
   "cell_type": "markdown",
   "metadata": {},
   "source": [
    "### Validate SVM on Rice"
   ]
  },
  {
   "cell_type": "code",
   "execution_count": 78,
   "metadata": {},
   "outputs": [
    {
     "name": "stdout",
     "output_type": "stream",
     "text": [
      "The validation accuracy is given by: 99.862524\n"
     ]
    }
   ],
   "source": [
    "pred_svm = svm_RICE.predict(X_val_RICE)\n",
    "print('The validation accuracy is given by: %f' % (get_acc(pred_svm, y_val_RICE)))"
   ]
  },
  {
   "attachments": {},
   "cell_type": "markdown",
   "metadata": {},
   "source": [
    "## Test SVM on Rice"
   ]
  },
  {
   "cell_type": "code",
   "execution_count": 79,
   "metadata": {},
   "outputs": [
    {
     "name": "stdout",
     "output_type": "stream",
     "text": [
      "The testing accuracy is given by: 99.862524\n"
     ]
    }
   ],
   "source": [
    "pred_svm = svm_RICE.predict(X_test_RICE)\n",
    "print('The testing accuracy is given by: %f' % (get_acc(pred_svm, y_test_RICE)))"
   ]
  },
  {
   "cell_type": "markdown",
   "metadata": {},
   "source": [
    "# Softmax Classifier (with SGD)"
   ]
  },
  {
   "cell_type": "markdown",
   "metadata": {
    "collapsed": true,
    "jupyter": {
     "outputs_hidden": true
    }
   },
   "source": [
    "Next, you will train a Softmax classifier. This classifier consists of a linear function of the input data followed by a softmax function which outputs a vector of dimension C (number of classes) for each data point. Each entry of the softmax output vector corresponds to a confidence in one of the C classes, and like a probability distribution, the entries of the output vector sum to 1. We use a cross-entropy loss on this sotmax output to train the model. \n",
    "\n",
    "Check the following link as an additional resource on softmax classification: http://cs231n.github.io/linear-classify/#softmax\n",
    "\n",
    "Once again we will train the classifier with SGD. This means you need to compute the gradients of the softmax cross-entropy loss function according to the weights and update the weights using this gradient. Check the following link to help with implementing the gradient updates: https://deepnotes.io/softmax-crossentropy"
   ]
  },
  {
   "cell_type": "markdown",
   "metadata": {},
   "source": [
    "The softmax classifier has 3 hyperparameters that you can experiment with:\n",
    "- **Learning rate** - As above, this controls how much the model weights are updated with respect to their gradient.\n",
    "- **Number of Epochs** - As described for perceptron.\n",
    "- **Regularization constant** - Hyperparameter to determine the strength of regularization. In this case, we minimize the L2 norm of the model weights as regularization, so the regularization constant is a coefficient on the L2 norm in the combined cross-entropy and regularization objective."
   ]
  },
  {
   "cell_type": "markdown",
   "metadata": {},
   "source": [
    "You will implement a softmax classifier using SGD in the **models/softmax.py**\n",
    "\n",
    "The following code: \n",
    "- Creates an instance of the Softmax classifier class \n",
    "- The train function of the Softmax class is trained on the training data\n",
    "- We use the predict function to find the training accuracy as well as the testing accuracy"
   ]
  },
  {
   "cell_type": "markdown",
   "metadata": {},
   "source": [
    "## Train Softmax on Fashion-MNIST"
   ]
  },
  {
   "cell_type": "code",
   "execution_count": 209,
   "metadata": {},
   "outputs": [
    {
     "name": "stdout",
     "output_type": "stream",
     "text": [
      "epoch: 1 / 24, error: 0.89044\n",
      "epoch: 2 / 24, error: 0.25732\n",
      "epoch: 3 / 24, error: 0.23106000000000004\n",
      "epoch: 4 / 24, error: 0.21814\n",
      "epoch: 5 / 24, error: 0.20996000000000004\n",
      "epoch: 6 / 24, error: 0.20308000000000004\n",
      "epoch: 7 / 24, error: 0.19628\n",
      "epoch: 8 / 24, error: 0.18984\n",
      "epoch: 9 / 24, error: 0.18272\n",
      "epoch: 10 / 24, error: 0.17606\n",
      "epoch: 11 / 24, error: 0.17098000000000002\n",
      "epoch: 12 / 24, error: 0.16596\n",
      "epoch: 13 / 24, error: 0.1612\n",
      "epoch: 14 / 24, error: 0.15759999999999996\n",
      "epoch: 15 / 24, error: 0.15361999999999998\n",
      "epoch: 16 / 24, error: 0.15159999999999996\n",
      "epoch: 17 / 24, error: 0.14873999999999998\n",
      "epoch: 18 / 24, error: 0.14708\n",
      "epoch: 19 / 24, error: 0.14624000000000004\n",
      "epoch: 20 / 24, error: 0.14605999999999997\n",
      "epoch: 21 / 24, error: 0.14632\n",
      "epoch: 22 / 24, error: 0.14576\n",
      "epoch: 23 / 24, error: 0.14542\n",
      "epoch: 24 / 24, error: 0.14542\n"
     ]
    }
   ],
   "source": [
    "lr = 0.001\n",
    "n_epochs = 24\n",
    "reg_const = 0.2\n",
    "\n",
    "softmax_fashion = Softmax(n_class_fashion, lr, n_epochs, reg_const)\n",
    "softmax_fashion.train(X_train_fashion, y_train_fashion)"
   ]
  },
  {
   "cell_type": "code",
   "execution_count": 210,
   "metadata": {},
   "outputs": [
    {
     "name": "stdout",
     "output_type": "stream",
     "text": [
      "The training accuracy is given by: 85.448000\n"
     ]
    }
   ],
   "source": [
    "pred_softmax = softmax_fashion.predict(X_train_fashion)\n",
    "print('The training accuracy is given by: %f' % (get_acc(pred_softmax, y_train_fashion)))"
   ]
  },
  {
   "cell_type": "markdown",
   "metadata": {},
   "source": [
    "### Validate Softmax on Fashion-MNIST"
   ]
  },
  {
   "cell_type": "code",
   "execution_count": 211,
   "metadata": {},
   "outputs": [
    {
     "name": "stdout",
     "output_type": "stream",
     "text": [
      "The validation accuracy is given by: 83.710000\n"
     ]
    }
   ],
   "source": [
    "pred_softmax = softmax_fashion.predict(X_val_fashion)\n",
    "print('The validation accuracy is given by: %f' % (get_acc(pred_softmax, y_val_fashion)))"
   ]
  },
  {
   "cell_type": "markdown",
   "metadata": {},
   "source": [
    "### Testing Softmax on Fashion-MNIST"
   ]
  },
  {
   "cell_type": "code",
   "execution_count": 212,
   "metadata": {},
   "outputs": [
    {
     "name": "stdout",
     "output_type": "stream",
     "text": [
      "The testing accuracy is given by: 82.930000\n"
     ]
    }
   ],
   "source": [
    "pred_softmax = softmax_fashion.predict(X_test_fashion)\n",
    "print('The testing accuracy is given by: %f' % (get_acc(pred_softmax, y_test_fashion)))"
   ]
  },
  {
   "cell_type": "markdown",
   "metadata": {},
   "source": [
    "### Softmax_Fashion-MNIST Kaggle Submission\n",
    "\n",
    "Once you are satisfied with your solution and test accuracy output a file to submit your test set predictions to the Kaggle for Assignment 1 Fashion-MNIST. Use the following code to do so:"
   ]
  },
  {
   "cell_type": "code",
   "execution_count": 213,
   "metadata": {},
   "outputs": [],
   "source": [
    "output_submission_csv('kaggle/softmax_submission_fashion.csv', softmax_fashion.predict(X_test_fashion))"
   ]
  },
  {
   "attachments": {},
   "cell_type": "markdown",
   "metadata": {},
   "source": [
    "## Train Softmax on Rice"
   ]
  },
  {
   "cell_type": "code",
   "execution_count": 168,
   "metadata": {},
   "outputs": [
    {
     "name": "stdout",
     "output_type": "stream",
     "text": [
      "epoch: 1 / 10\n",
      "epoch: 2 / 10\n",
      "epoch: 3 / 10\n",
      "epoch: 4 / 10\n",
      "epoch: 5 / 10\n",
      "epoch: 6 / 10\n",
      "epoch: 7 / 10\n",
      "epoch: 8 / 10\n",
      "epoch: 9 / 10\n",
      "epoch: 10 / 10\n"
     ]
    }
   ],
   "source": [
    "lr = 0.5\n",
    "n_epochs = 10\n",
    "reg_const = 0.05\n",
    "\n",
    "softmax_RICE = Softmax(n_class_RICE, lr, n_epochs, reg_const)\n",
    "softmax_RICE.train(X_train_RICE, y_train_RICE)"
   ]
  },
  {
   "cell_type": "code",
   "execution_count": 169,
   "metadata": {},
   "outputs": [
    {
     "name": "stdout",
     "output_type": "stream",
     "text": [
      "The training accuracy is given by: 96.728073\n"
     ]
    }
   ],
   "source": [
    "pred_softmax = softmax_RICE.predict(X_train_RICE)\n",
    "print('The training accuracy is given by: %f' % (get_acc(pred_softmax, y_train_RICE)))"
   ]
  },
  {
   "attachments": {},
   "cell_type": "markdown",
   "metadata": {},
   "source": [
    "### Validate Softmax on Rice"
   ]
  },
  {
   "cell_type": "code",
   "execution_count": 170,
   "metadata": {},
   "outputs": [
    {
     "name": "stdout",
     "output_type": "stream",
     "text": [
      "The validation accuracy is given by: 96.755568\n"
     ]
    }
   ],
   "source": [
    "pred_softmax = softmax_RICE.predict(X_val_RICE)\n",
    "print('The validation accuracy is given by: %f' % (get_acc(pred_softmax, y_val_RICE)))"
   ]
  },
  {
   "attachments": {},
   "cell_type": "markdown",
   "metadata": {},
   "source": [
    "### Testing Softmax on Rice"
   ]
  },
  {
   "cell_type": "code",
   "execution_count": 171,
   "metadata": {},
   "outputs": [
    {
     "name": "stdout",
     "output_type": "stream",
     "text": [
      "The testing accuracy is given by: 97.195491\n"
     ]
    }
   ],
   "source": [
    "pred_softmax = softmax_RICE.predict(X_test_RICE)\n",
    "print('The testing accuracy is given by: %f' % (get_acc(pred_softmax, y_test_RICE)))"
   ]
  },
  {
   "cell_type": "markdown",
   "metadata": {},
   "source": [
    "# Logistic Classifier"
   ]
  },
  {
   "cell_type": "markdown",
   "metadata": {},
   "source": [
    "The Logistic Classifier has 2 hyperparameters that you can experiment with:\n",
    "- **Learning rate** - similar to as defined above in Perceptron, this parameter scales by how much the weights are changed according to the calculated gradient update. \n",
    "- **Number of Epochs** - As described for perceptron.\n",
    "- **Threshold** - The decision boundary of the classifier.\n"
   ]
  },
  {
   "cell_type": "markdown",
   "metadata": {},
   "source": [
    "You will implement the Logistic Classifier in the **models/logistic.py**\n",
    "\n",
    "The following code: \n",
    "- Creates an instance of the Logistic classifier class \n",
    "- The train function of the Logistic class is trained on the training data\n",
    "- We use the predict function to find the training accuracy as well as the testing accuracy"
   ]
  },
  {
   "cell_type": "markdown",
   "metadata": {},
   "source": [
    "### Training Logistic Classifer"
   ]
  },
  {
   "cell_type": "code",
   "execution_count": null,
   "metadata": {},
   "outputs": [],
   "source": [
    "learning_rate = 0.5\n",
    "n_epochs = 10\n",
    "threshold = 0.5\n",
    "\n",
    "lr = Logistic(learning_rate, n_epochs, threshold)\n",
    "lr.train(X_train_RICE, y_train_RICE)"
   ]
  },
  {
   "cell_type": "code",
   "execution_count": null,
   "metadata": {},
   "outputs": [],
   "source": [
    "pred_lr = lr.predict(X_train_RICE)\n",
    "print('The training accuracy is given by: %f' % (get_acc(pred_lr, y_train_RICE)))"
   ]
  },
  {
   "cell_type": "markdown",
   "metadata": {},
   "source": [
    "### Validate Logistic Classifer"
   ]
  },
  {
   "cell_type": "code",
   "execution_count": null,
   "metadata": {},
   "outputs": [],
   "source": [
    "pred_lr = lr.predict(X_val_RICE)\n",
    "print('The validation accuracy is given by: %f' % (get_acc(pred_lr, y_val_RICE)))"
   ]
  },
  {
   "cell_type": "markdown",
   "metadata": {},
   "source": [
    "### Test Logistic Classifier"
   ]
  },
  {
   "cell_type": "code",
   "execution_count": null,
   "metadata": {},
   "outputs": [],
   "source": [
    "pred_lr = lr.predict(X_test_RICE)\n",
    "print('The testing accuracy is given by: %f' % (get_acc(pred_lr, y_test_RICE)))"
   ]
  },
  {
   "cell_type": "code",
   "execution_count": null,
   "metadata": {},
   "outputs": [],
   "source": []
  }
 ],
 "metadata": {
  "kernelspec": {
   "display_name": "Python 3 (ipykernel)",
   "language": "python",
   "name": "python3"
  },
  "language_info": {
   "codemirror_mode": {
    "name": "ipython",
    "version": 3
   },
   "file_extension": ".py",
   "mimetype": "text/x-python",
   "name": "python",
   "nbconvert_exporter": "python",
   "pygments_lexer": "ipython3",
   "version": "3.11.7"
  },
  "vscode": {
   "interpreter": {
    "hash": "397704579725e15f5c7cb49fe5f0341eb7531c82d19f2c29d197e8b64ab5776b"
   }
  }
 },
 "nbformat": 4,
 "nbformat_minor": 4
}
