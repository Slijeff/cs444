{
 "cells": [
  {
   "attachments": {},
   "cell_type": "markdown",
   "metadata": {},
   "source": [
    "# (Optional) Colab Setup\n",
    "If you aren't using Colab, you can delete the following code cell. This is just to help students with mounting to Google Drive to access the other .py files and downloading the data, which is a little trickier on Colab than on your local machine using Jupyter. "
   ]
  },
  {
   "cell_type": "code",
   "execution_count": 45,
   "metadata": {
    "ExecuteTime": {
     "end_time": "2024-02-05T22:30:09.150270600Z",
     "start_time": "2024-02-05T22:30:09.109935800Z"
    }
   },
   "outputs": [],
   "source": [
    "# you will be prompted with a window asking to grant permissions\n",
    "# from google.colab import drive\n",
    "# drive.mount(\"/content/drive\")"
   ]
  },
  {
   "cell_type": "code",
   "execution_count": 46,
   "metadata": {
    "ExecuteTime": {
     "end_time": "2024-02-05T22:30:09.152371400Z",
     "start_time": "2024-02-05T22:30:09.118206700Z"
    }
   },
   "outputs": [],
   "source": [
    "# fill in the path in your Google Drive in the string below. Note: do not escape slashes or spaces\n",
    "# import os\n",
    "# datadir = \"/content/assignment1\"\n",
    "# if not os.path.exists(datadir):\n",
    "#   !ln -s \"/content/drive/My Drive/YOUR PATH HERE/assignment1/\" $datadir\n",
    "# os.chdir(datadir)\n",
    "# !pwd"
   ]
  },
  {
   "cell_type": "code",
   "execution_count": 47,
   "metadata": {
    "ExecuteTime": {
     "end_time": "2024-02-05T22:30:09.155444700Z",
     "start_time": "2024-02-05T22:30:09.124010600Z"
    }
   },
   "outputs": [],
   "source": [
    "# downloading Fashion-MNIST\n",
    "# import os\n",
    "# os.chdir(os.path.join(datadir,\"fashion-mnist/\"))\n",
    "# !chmod +x ./get_data.sh\n",
    "# !./get_data.sh\n",
    "# os.chdir(datadir)"
   ]
  },
  {
   "attachments": {},
   "cell_type": "markdown",
   "metadata": {},
   "source": [
    "# Imports"
   ]
  },
  {
   "cell_type": "code",
   "execution_count": 48,
   "metadata": {
    "ExecuteTime": {
     "end_time": "2024-02-05T22:30:19.803306800Z",
     "start_time": "2024-02-05T22:30:09.133952900Z"
    }
   },
   "outputs": [
    {
     "name": "stdout",
     "output_type": "stream",
     "text": [
      "The autoreload extension is already loaded. To reload it, use:\n",
      "  %reload_ext autoreload\n"
     ]
    }
   ],
   "source": [
    "import random\n",
    "import numpy as np\n",
    "from data_process import get_FASHION_data, get_RICE_data\n",
    "from scipy.spatial import distance\n",
    "from models import Perceptron, SVM, Softmax, Logistic\n",
    "from kaggle_submission import output_submission_csv\n",
    "%matplotlib inline\n",
    "np.random.seed(441)\n",
    "# For auto-reloading external modules\n",
    "# See http://stackoverflow.com/questions/1907993/autoreload-of-modules-in-ipython\n",
    "%load_ext autoreload\n",
    "%autoreload 2"
   ]
  },
  {
   "cell_type": "markdown",
   "metadata": {},
   "source": [
    "# Loading Fashion-MNIST"
   ]
  },
  {
   "cell_type": "markdown",
   "metadata": {},
   "source": [
    "In the following cells we determine the number of images for each split and load the images.\n",
    "<br /> \n",
    "TRAIN_IMAGES + VAL_IMAGES = (0, 60000]\n",
    ", TEST_IMAGES = 10000"
   ]
  },
  {
   "cell_type": "code",
   "execution_count": 105,
   "metadata": {
    "ExecuteTime": {
     "end_time": "2024-02-05T22:30:19.869115900Z",
     "start_time": "2024-02-05T22:30:19.805414300Z"
    }
   },
   "outputs": [],
   "source": [
    "# You can change these numbers for experimentation\n",
    "# For submission we will use the default values \n",
    "TRAIN_IMAGES = 50000\n",
    "VAL_IMAGES = 10000\n",
    "normalize = True"
   ]
  },
  {
   "cell_type": "code",
   "execution_count": 106,
   "metadata": {
    "ExecuteTime": {
     "end_time": "2024-02-05T22:30:20.519096100Z",
     "start_time": "2024-02-05T22:30:19.861769700Z"
    }
   },
   "outputs": [],
   "source": [
    "data = get_FASHION_data(TRAIN_IMAGES, VAL_IMAGES, normalize=normalize)\n",
    "X_train_fashion, y_train_fashion = data['X_train'], data['y_train']\n",
    "X_val_fashion, y_val_fashion = data['X_val'], data['y_val']\n",
    "X_test_fashion, y_test_fashion = data['X_test'], data['y_test']\n",
    "n_class_fashion = len(np.unique(y_test_fashion))"
   ]
  },
  {
   "attachments": {},
   "cell_type": "markdown",
   "metadata": {},
   "source": [
    "# Loading Rice"
   ]
  },
  {
   "cell_type": "code",
   "execution_count": 51,
   "metadata": {
    "ExecuteTime": {
     "end_time": "2024-02-05T22:30:20.790959900Z",
     "start_time": "2024-02-05T22:30:20.521131900Z"
    }
   },
   "outputs": [
    {
     "name": "stdout",
     "output_type": "stream",
     "text": [
      "Number of train samples:  10911\n",
      "Number of val samples:  3637\n",
      "Number of test samples:  3637\n"
     ]
    }
   ],
   "source": [
    "# loads train / test / val splits of 80%, 20%, 20% \n",
    "data = get_RICE_data()\n",
    "X_train_RICE, y_train_RICE = data['X_train'], data['y_train']\n",
    "X_val_RICE, y_val_RICE = data['X_val'], data['y_val']\n",
    "X_test_RICE, y_test_RICE = data['X_test'], data['y_test']\n",
    "n_class_RICE = len(np.unique(y_test_RICE))\n",
    "\n",
    "print(\"Number of train samples: \", X_train_RICE.shape[0])\n",
    "print(\"Number of val samples: \", X_val_RICE.shape[0])\n",
    "print(\"Number of test samples: \", X_test_RICE.shape[0])"
   ]
  },
  {
   "cell_type": "markdown",
   "metadata": {},
   "source": [
    "### Get Accuracy"
   ]
  },
  {
   "cell_type": "markdown",
   "metadata": {},
   "source": [
    "This function computes how well your model performs using accuracy as a metric."
   ]
  },
  {
   "cell_type": "code",
   "execution_count": 52,
   "metadata": {
    "ExecuteTime": {
     "end_time": "2024-02-05T22:30:20.853293900Z",
     "start_time": "2024-02-05T22:30:20.790959900Z"
    }
   },
   "outputs": [],
   "source": [
    "def get_acc(pred, y_test):\n",
    "    return np.sum(y_test == pred) / len(y_test) * 100"
   ]
  },
  {
   "cell_type": "code",
   "execution_count": 76,
   "metadata": {},
   "outputs": [],
   "source": [
    "# Hyperparameter search\n",
    "from itertools import product\n",
    "from collections import namedtuple\n",
    "from tqdm.notebook import tqdm\n",
    "example_params = {\n",
    "    \"model\": None,\n",
    "    \"xtrain\": None,\n",
    "    \"ytrain\": None,\n",
    "    \"xval\": None,\n",
    "    \"yval\": None,\n",
    "    \"hyperparams\": {\n",
    "        \"lr\": [],\n",
    "        \"epochs\": [],\n",
    "        \"reg_const\": []\n",
    "    }\n",
    "}\n",
    "product_dict = lambda dicts: list(dict(zip(dicts, x)) for x in product(*dicts.values()))\n",
    "def search(params):\n",
    "    combs = product_dict(params[\"hyperparams\"])\n",
    "    record = []\n",
    "    for i, param in enumerate(tqdm(combs)):\n",
    "        verbose = ' | '.join([(k + \"=\" + str(v)) for k,v in param.items()])\n",
    "        print(f\"searching {i + 1} / {len(combs)},  { verbose }\")\n",
    "        model = params[\"model\"](**param)\n",
    "        model.train(params[\"xtrain\"], params[\"ytrain\"])\n",
    "        val_acc = get_acc(model.predict(params[\"xval\"]), params[\"yval\"])\n",
    "        print(f\"validation accuracy: {val_acc}\")\n",
    "        record.append((verbose, val_acc))\n",
    "    print(f\"DONE. Best parameter is {max(record, key=lambda x: x[1])[0]}\")\n",
    "        "
   ]
  },
  {
   "cell_type": "markdown",
   "metadata": {},
   "source": [
    "# Perceptron"
   ]
  },
  {
   "cell_type": "markdown",
   "metadata": {},
   "source": [
    "Perceptron has 2 hyperparameters that you can experiment with:\n",
    "### Learning rate\n",
    "The learning rate controls how much we change the current weights of the classifier during each update. We set it at a default value of 0.5, but you should experiment with different values. Here is a guide to help you find a right learning rate: \n",
    "- Try values ranging from 5.0 to 0.0005 to see the impact on model accuracy. \n",
    "- If the accuracy fluctuates a lot or diverges, the learning rate is too high. Try decreasing it by a factor of 10 (e.g. from 0.5 to 0.05). \n",
    "- If the accuracy is changing very slowly, the learning rate may be too low. Try increasing it by a factor of 10.\n",
    "- You can also try adding a learning rate decay to slowly reduce the learning rate over each training epoch. For example, multiply the learning rate by 0.95 after each epoch.\n",
    "- Plot training and validation accuracy over epochs for different learning rates. This will help you visualize the impact of the learning rate.\n",
    "- [Here](https://towardsdatascience.com/https-medium-com-dashingaditya-rakhecha-understanding-learning-rate-dd5da26bb6de) is a detailed guide to learning rate.\n",
    "\n",
    "### Number of Epochs\n",
    "An epoch is a complete iterative pass over all of the data in the dataset. During an epoch we predict a label using the classifier and then update the weights of the classifier according to the perceptron update rule for each sample in the training set. You should try different values for the number of training epochs and report your results."
   ]
  },
  {
   "cell_type": "markdown",
   "metadata": {},
   "source": [
    "You will implement the Perceptron classifier in the **models/perceptron.py**\n",
    "\n",
    "The following code: \n",
    "- Creates an instance of the Perceptron classifier class \n",
    "- The train function of the Perceptron class is trained on the training data\n",
    "- We use the predict function to find the training accuracy as well as the testing accuracy\n"
   ]
  },
  {
   "cell_type": "markdown",
   "metadata": {},
   "source": [
    "## Train Perceptron on Fashion-MNIST"
   ]
  },
  {
   "cell_type": "code",
   "execution_count": 161,
   "metadata": {},
   "outputs": [
    {
     "data": {
      "application/vnd.jupyter.widget-view+json": {
       "model_id": "2cbdcc452721485f8cf1cd1a81232c46",
       "version_major": 2,
       "version_minor": 0
      },
      "text/plain": [
       "  0%|          | 0/12 [00:00<?, ?it/s]"
      ]
     },
     "metadata": {},
     "output_type": "display_data"
    },
    {
     "name": "stdout",
     "output_type": "stream",
     "text": [
      "searching 1 / 12,  n_class=10 | lr=0.5 | epochs=10\n"
     ]
    },
    {
     "data": {
      "application/vnd.jupyter.widget-view+json": {
       "model_id": "",
       "version_major": 2,
       "version_minor": 0
      },
      "text/plain": [
       "  0%|          | 0/10 [00:00<?, ?it/s]"
      ]
     },
     "metadata": {},
     "output_type": "display_data"
    },
    {
     "name": "stdout",
     "output_type": "stream",
     "text": [
      "validation accuracy: 80.93\n",
      "searching 2 / 12,  n_class=10 | lr=0.5 | epochs=15\n"
     ]
    },
    {
     "data": {
      "application/vnd.jupyter.widget-view+json": {
       "model_id": "",
       "version_major": 2,
       "version_minor": 0
      },
      "text/plain": [
       "  0%|          | 0/15 [00:00<?, ?it/s]"
      ]
     },
     "metadata": {},
     "output_type": "display_data"
    },
    {
     "name": "stdout",
     "output_type": "stream",
     "text": [
      "validation accuracy: 80.93\n",
      "searching 3 / 12,  n_class=10 | lr=0.1 | epochs=10\n"
     ]
    },
    {
     "data": {
      "application/vnd.jupyter.widget-view+json": {
       "model_id": "",
       "version_major": 2,
       "version_minor": 0
      },
      "text/plain": [
       "  0%|          | 0/10 [00:00<?, ?it/s]"
      ]
     },
     "metadata": {},
     "output_type": "display_data"
    },
    {
     "name": "stdout",
     "output_type": "stream",
     "text": [
      "validation accuracy: 80.60000000000001\n",
      "searching 4 / 12,  n_class=10 | lr=0.1 | epochs=15\n"
     ]
    },
    {
     "data": {
      "application/vnd.jupyter.widget-view+json": {
       "model_id": "",
       "version_major": 2,
       "version_minor": 0
      },
      "text/plain": [
       "  0%|          | 0/15 [00:00<?, ?it/s]"
      ]
     },
     "metadata": {},
     "output_type": "display_data"
    },
    {
     "name": "stdout",
     "output_type": "stream",
     "text": [
      "validation accuracy: 80.60000000000001\n",
      "searching 5 / 12,  n_class=10 | lr=0.08 | epochs=10\n"
     ]
    },
    {
     "data": {
      "application/vnd.jupyter.widget-view+json": {
       "model_id": "",
       "version_major": 2,
       "version_minor": 0
      },
      "text/plain": [
       "  0%|          | 0/10 [00:00<?, ?it/s]"
      ]
     },
     "metadata": {},
     "output_type": "display_data"
    },
    {
     "name": "stdout",
     "output_type": "stream",
     "text": [
      "validation accuracy: 80.99\n",
      "searching 6 / 12,  n_class=10 | lr=0.08 | epochs=15\n"
     ]
    },
    {
     "data": {
      "application/vnd.jupyter.widget-view+json": {
       "model_id": "",
       "version_major": 2,
       "version_minor": 0
      },
      "text/plain": [
       "  0%|          | 0/15 [00:00<?, ?it/s]"
      ]
     },
     "metadata": {},
     "output_type": "display_data"
    },
    {
     "name": "stdout",
     "output_type": "stream",
     "text": [
      "validation accuracy: 81.0\n",
      "searching 7 / 12,  n_class=10 | lr=0.05 | epochs=10\n"
     ]
    },
    {
     "data": {
      "application/vnd.jupyter.widget-view+json": {
       "model_id": "",
       "version_major": 2,
       "version_minor": 0
      },
      "text/plain": [
       "  0%|          | 0/10 [00:00<?, ?it/s]"
      ]
     },
     "metadata": {},
     "output_type": "display_data"
    },
    {
     "name": "stdout",
     "output_type": "stream",
     "text": [
      "validation accuracy: 80.62\n",
      "searching 8 / 12,  n_class=10 | lr=0.05 | epochs=15\n"
     ]
    },
    {
     "data": {
      "application/vnd.jupyter.widget-view+json": {
       "model_id": "",
       "version_major": 2,
       "version_minor": 0
      },
      "text/plain": [
       "  0%|          | 0/15 [00:00<?, ?it/s]"
      ]
     },
     "metadata": {},
     "output_type": "display_data"
    },
    {
     "name": "stdout",
     "output_type": "stream",
     "text": [
      "validation accuracy: 80.62\n",
      "searching 9 / 12,  n_class=10 | lr=0.01 | epochs=10\n"
     ]
    },
    {
     "data": {
      "application/vnd.jupyter.widget-view+json": {
       "model_id": "",
       "version_major": 2,
       "version_minor": 0
      },
      "text/plain": [
       "  0%|          | 0/10 [00:00<?, ?it/s]"
      ]
     },
     "metadata": {},
     "output_type": "display_data"
    },
    {
     "name": "stdout",
     "output_type": "stream",
     "text": [
      "validation accuracy: 80.91000000000001\n",
      "searching 10 / 12,  n_class=10 | lr=0.01 | epochs=15\n"
     ]
    },
    {
     "data": {
      "application/vnd.jupyter.widget-view+json": {
       "model_id": "",
       "version_major": 2,
       "version_minor": 0
      },
      "text/plain": [
       "  0%|          | 0/15 [00:00<?, ?it/s]"
      ]
     },
     "metadata": {},
     "output_type": "display_data"
    },
    {
     "name": "stdout",
     "output_type": "stream",
     "text": [
      "validation accuracy: 80.92\n",
      "searching 11 / 12,  n_class=10 | lr=0.005 | epochs=10\n"
     ]
    },
    {
     "data": {
      "application/vnd.jupyter.widget-view+json": {
       "model_id": "",
       "version_major": 2,
       "version_minor": 0
      },
      "text/plain": [
       "  0%|          | 0/10 [00:00<?, ?it/s]"
      ]
     },
     "metadata": {},
     "output_type": "display_data"
    },
    {
     "name": "stdout",
     "output_type": "stream",
     "text": [
      "validation accuracy: 80.58999999999999\n",
      "searching 12 / 12,  n_class=10 | lr=0.005 | epochs=15\n"
     ]
    },
    {
     "data": {
      "application/vnd.jupyter.widget-view+json": {
       "model_id": "",
       "version_major": 2,
       "version_minor": 0
      },
      "text/plain": [
       "  0%|          | 0/15 [00:00<?, ?it/s]"
      ]
     },
     "metadata": {},
     "output_type": "display_data"
    },
    {
     "name": "stdout",
     "output_type": "stream",
     "text": [
      "validation accuracy: 80.60000000000001\n",
      "DONE. Best parameter is n_class=10 | lr=0.08 | epochs=15\n"
     ]
    }
   ],
   "source": [
    "params = {\n",
    "    \"model\": Perceptron,\n",
    "    \"xtrain\": X_train_fashion,\n",
    "    \"ytrain\": y_train_fashion,\n",
    "    \"xval\": X_test_fashion,\n",
    "    \"yval\": y_test_fashion,\n",
    "    \"hyperparams\": {\n",
    "        \"n_class\": [n_class_fashion],\n",
    "        \"lr\": [0.5, 0.1, 0.08, 0.05, 0.01, 0.005],\n",
    "        \"epochs\": [10, 15],\n",
    "    }\n",
    "}\n",
    "# search(params)"
   ]
  },
  {
   "cell_type": "code",
   "execution_count": 162,
   "metadata": {
    "ExecuteTime": {
     "end_time": "2024-02-05T22:30:33.787576Z",
     "start_time": "2024-02-05T22:30:20.846085800Z"
    }
   },
   "outputs": [
    {
     "data": {
      "application/vnd.jupyter.widget-view+json": {
       "model_id": "",
       "version_major": 2,
       "version_minor": 0
      },
      "text/plain": [
       "  0%|          | 0/15 [00:00<?, ?it/s]"
      ]
     },
     "metadata": {},
     "output_type": "display_data"
    }
   ],
   "source": [
    "lr = 0.08\n",
    "n_epochs = 15\n",
    "\n",
    "percept_fashion = Perceptron(n_class_fashion, lr, n_epochs)\n",
    "percept_fashion.train(X_train_fashion, y_train_fashion)"
   ]
  },
  {
   "cell_type": "code",
   "execution_count": 163,
   "metadata": {
    "ExecuteTime": {
     "end_time": "2024-02-05T22:30:33.890794300Z",
     "start_time": "2024-02-05T22:30:33.781406200Z"
    }
   },
   "outputs": [
    {
     "name": "stdout",
     "output_type": "stream",
     "text": [
      "The training accuracy is given by: 84.612000\n"
     ]
    }
   ],
   "source": [
    "pred_percept = percept_fashion.predict(X_train_fashion)\n",
    "print('The training accuracy is given by: %f' % (get_acc(pred_percept, y_train_fashion)))"
   ]
  },
  {
   "cell_type": "markdown",
   "metadata": {},
   "source": [
    "### Validate Perceptron on Fashion-MNIST"
   ]
  },
  {
   "cell_type": "code",
   "execution_count": 164,
   "metadata": {
    "ExecuteTime": {
     "end_time": "2024-02-05T22:30:33.955316100Z",
     "start_time": "2024-02-05T22:30:33.884479300Z"
    }
   },
   "outputs": [
    {
     "name": "stdout",
     "output_type": "stream",
     "text": [
      "The validation accuracy is given by: 81.700000\n"
     ]
    }
   ],
   "source": [
    "pred_percept = percept_fashion.predict(X_val_fashion)\n",
    "print('The validation accuracy is given by: %f' % (get_acc(pred_percept, y_val_fashion)))"
   ]
  },
  {
   "cell_type": "markdown",
   "metadata": {},
   "source": [
    "### Test Perceptron on Fashion-MNIST"
   ]
  },
  {
   "cell_type": "code",
   "execution_count": 165,
   "metadata": {
    "ExecuteTime": {
     "end_time": "2024-02-05T22:30:34.029151600Z",
     "start_time": "2024-02-05T22:30:33.951204800Z"
    }
   },
   "outputs": [
    {
     "name": "stdout",
     "output_type": "stream",
     "text": [
      "The testing accuracy is given by: 81.000000\n"
     ]
    }
   ],
   "source": [
    "pred_percept = percept_fashion.predict(X_test_fashion)\n",
    "print('The testing accuracy is given by: %f' % (get_acc(pred_percept, y_test_fashion)))"
   ]
  },
  {
   "cell_type": "markdown",
   "metadata": {},
   "source": [
    "### Perceptron_Fashion-MNIST Kaggle Submission\n",
    "\n",
    "Once you are satisfied with your solution and test accuracy, output a file to submit your test set predictions to the Kaggle for Assignment 1 Fashion-MNIST. Use the following code to do so:"
   ]
  },
  {
   "cell_type": "code",
   "execution_count": null,
   "metadata": {
    "ExecuteTime": {
     "end_time": "2024-02-05T22:30:34.094382600Z",
     "start_time": "2024-02-05T22:30:34.022869500Z"
    }
   },
   "outputs": [],
   "source": [
    "# output_submission_csv('kaggle/perceptron_submission_fashion.csv', percept_fashion.predict(X_test_fashion))"
   ]
  },
  {
   "attachments": {},
   "cell_type": "markdown",
   "metadata": {},
   "source": [
    "## Train Perceptron on Rice"
   ]
  },
  {
   "cell_type": "code",
   "execution_count": 166,
   "metadata": {
    "ExecuteTime": {
     "end_time": "2024-02-05T22:30:36.521781800Z",
     "start_time": "2024-02-05T22:30:34.082917800Z"
    }
   },
   "outputs": [
    {
     "data": {
      "application/vnd.jupyter.widget-view+json": {
       "model_id": "",
       "version_major": 2,
       "version_minor": 0
      },
      "text/plain": [
       "  0%|          | 0/15 [00:00<?, ?it/s]"
      ]
     },
     "metadata": {},
     "output_type": "display_data"
    }
   ],
   "source": [
    "lr = 0.08\n",
    "n_epochs = 15\n",
    "\n",
    "percept_RICE = Perceptron(n_class_RICE, lr, n_epochs)\n",
    "percept_RICE.train(X_train_RICE, y_train_RICE)"
   ]
  },
  {
   "cell_type": "code",
   "execution_count": 167,
   "metadata": {
    "ExecuteTime": {
     "end_time": "2024-02-05T22:30:36.578326300Z",
     "start_time": "2024-02-05T22:30:36.517587500Z"
    }
   },
   "outputs": [
    {
     "name": "stdout",
     "output_type": "stream",
     "text": [
      "The training accuracy is given by: 99.899184\n"
     ]
    }
   ],
   "source": [
    "pred_percept = percept_RICE.predict(X_train_RICE)\n",
    "print('The training accuracy is given by: %f' % (get_acc(pred_percept, y_train_RICE)))"
   ]
  },
  {
   "attachments": {},
   "cell_type": "markdown",
   "metadata": {},
   "source": [
    "### Validate Perceptron on Rice"
   ]
  },
  {
   "cell_type": "code",
   "execution_count": 168,
   "metadata": {
    "ExecuteTime": {
     "end_time": "2024-02-05T22:30:36.638387800Z",
     "start_time": "2024-02-05T22:30:36.578326300Z"
    }
   },
   "outputs": [
    {
     "name": "stdout",
     "output_type": "stream",
     "text": [
      "The validation accuracy is given by: 99.835029\n"
     ]
    }
   ],
   "source": [
    "pred_percept = percept_RICE.predict(X_val_RICE)\n",
    "print('The validation accuracy is given by: %f' % (get_acc(pred_percept, y_val_RICE)))"
   ]
  },
  {
   "attachments": {},
   "cell_type": "markdown",
   "metadata": {},
   "source": [
    "### Test Perceptron on Rice"
   ]
  },
  {
   "cell_type": "code",
   "execution_count": 169,
   "metadata": {
    "ExecuteTime": {
     "end_time": "2024-02-05T22:30:36.700234100Z",
     "start_time": "2024-02-05T22:30:36.638387800Z"
    }
   },
   "outputs": [
    {
     "name": "stdout",
     "output_type": "stream",
     "text": [
      "The testing accuracy is given by: 99.835029\n"
     ]
    }
   ],
   "source": [
    "pred_percept = percept_RICE.predict(X_test_RICE)\n",
    "print('The testing accuracy is given by: %f' % (get_acc(pred_percept, y_test_RICE)))"
   ]
  },
  {
   "cell_type": "markdown",
   "metadata": {},
   "source": [
    "# Support Vector Machines (with SGD)"
   ]
  },
  {
   "cell_type": "markdown",
   "metadata": {},
   "source": [
    "Next, you will implement a \"soft margin\" SVM. In this formulation you will maximize the margin between positive and negative training examples and penalize margin violations using a hinge loss.\n",
    "\n",
    "We will optimize the SVM loss using SGD. This means you must compute the loss function with respect to model weights. You will use this gradient to update the model weights.\n",
    "\n",
    "SVM optimized with SGD has 3 hyperparameters that you can experiment with:\n",
    "- **Learning rate** - similar to as defined above in Perceptron, this parameter scales by how much the weights are changed according to the calculated gradient update. \n",
    "- **Epochs** - similar to as defined above in Perceptron.\n",
    "- **Regularization constant** - Hyperparameter to determine the strength of regularization. In this case it is a coefficient on the term which maximizes the margin. You could try different values. The default value is set to 0.05."
   ]
  },
  {
   "cell_type": "markdown",
   "metadata": {},
   "source": [
    "You will implement the SVM using SGD in the **models/svm.py**\n",
    "\n",
    "The following code: \n",
    "- Creates an instance of the SVM classifier class \n",
    "- The train function of the SVM class is trained on the training data\n",
    "- We use the predict function to find the training accuracy as well as the testing accuracy"
   ]
  },
  {
   "cell_type": "markdown",
   "metadata": {},
   "source": [
    "## Train SVM on Fashion-MNIST"
   ]
  },
  {
   "cell_type": "code",
   "execution_count": 171,
   "metadata": {},
   "outputs": [
    {
     "data": {
      "application/vnd.jupyter.widget-view+json": {
       "model_id": "7334d511fa874b69aea624ec41b6c068",
       "version_major": 2,
       "version_minor": 0
      },
      "text/plain": [
       "  0%|          | 0/18 [00:00<?, ?it/s]"
      ]
     },
     "metadata": {},
     "output_type": "display_data"
    },
    {
     "name": "stdout",
     "output_type": "stream",
     "text": [
      "searching 1 / 18,  n_class=10 | lr=0.5 | epochs=10 | reg_const=0.1\n",
      "validation accuracy: 81.58999999999999\n",
      "searching 2 / 18,  n_class=10 | lr=0.5 | epochs=10 | reg_const=0.05\n",
      "validation accuracy: 81.58999999999999\n",
      "searching 3 / 18,  n_class=10 | lr=0.5 | epochs=10 | reg_const=0.01\n",
      "validation accuracy: 81.47999999999999\n",
      "searching 4 / 18,  n_class=10 | lr=0.1 | epochs=10 | reg_const=0.1\n",
      "validation accuracy: 81.47999999999999\n",
      "searching 5 / 18,  n_class=10 | lr=0.1 | epochs=10 | reg_const=0.05\n",
      "validation accuracy: 81.47999999999999\n",
      "searching 6 / 18,  n_class=10 | lr=0.1 | epochs=10 | reg_const=0.01\n",
      "validation accuracy: 81.69\n",
      "searching 7 / 18,  n_class=10 | lr=0.08 | epochs=10 | reg_const=0.1\n",
      "validation accuracy: 81.38\n",
      "searching 8 / 18,  n_class=10 | lr=0.08 | epochs=10 | reg_const=0.05\n",
      "validation accuracy: 81.55\n",
      "searching 9 / 18,  n_class=10 | lr=0.08 | epochs=10 | reg_const=0.01\n",
      "validation accuracy: 81.32000000000001\n",
      "searching 10 / 18,  n_class=10 | lr=0.05 | epochs=10 | reg_const=0.1\n",
      "validation accuracy: 81.47999999999999\n",
      "searching 11 / 18,  n_class=10 | lr=0.05 | epochs=10 | reg_const=0.05\n",
      "validation accuracy: 81.58999999999999\n",
      "searching 12 / 18,  n_class=10 | lr=0.05 | epochs=10 | reg_const=0.01\n",
      "validation accuracy: 81.51\n",
      "searching 13 / 18,  n_class=10 | lr=0.01 | epochs=10 | reg_const=0.1\n",
      "validation accuracy: 81.26\n",
      "searching 14 / 18,  n_class=10 | lr=0.01 | epochs=10 | reg_const=0.05\n",
      "validation accuracy: 81.54\n",
      "searching 15 / 18,  n_class=10 | lr=0.01 | epochs=10 | reg_const=0.01\n",
      "validation accuracy: 81.56\n",
      "searching 16 / 18,  n_class=10 | lr=0.005 | epochs=10 | reg_const=0.1\n",
      "validation accuracy: 81.47\n",
      "searching 17 / 18,  n_class=10 | lr=0.005 | epochs=10 | reg_const=0.05\n",
      "validation accuracy: 81.53\n",
      "searching 18 / 18,  n_class=10 | lr=0.005 | epochs=10 | reg_const=0.01\n",
      "validation accuracy: 81.54\n",
      "DONE. Best parameter is n_class=10 | lr=0.1 | epochs=10 | reg_const=0.01\n"
     ]
    }
   ],
   "source": [
    "params = {\n",
    "    \"model\": SVM,\n",
    "    \"xtrain\": X_train_fashion,\n",
    "    \"ytrain\": y_train_fashion,\n",
    "    \"xval\": X_test_fashion,\n",
    "    \"yval\": y_test_fashion,\n",
    "    \"hyperparams\": {\n",
    "        \"n_class\": [n_class_fashion],\n",
    "        \"lr\": [0.5, 0.1, 0.08, 0.05, 0.01, 0.005],\n",
    "        \"epochs\": [10],\n",
    "        \"reg_const\": [0.1, 0.05, 0.01]\n",
    "    }\n",
    "}\n",
    "# search(params)"
   ]
  },
  {
   "cell_type": "code",
   "execution_count": 176,
   "metadata": {
    "ExecuteTime": {
     "end_time": "2024-02-05T23:04:14.186460900Z",
     "start_time": "2024-02-05T23:04:14.022598500Z"
    }
   },
   "outputs": [],
   "source": [
    "lr = 0.1\n",
    "n_epochs = 10\n",
    "reg_const = 0.01\n",
    "\n",
    "svm_fashion = SVM(n_class_fashion, lr, n_epochs, reg_const)\n",
    "svm_fashion.train(X_train_fashion, y_train_fashion)"
   ]
  },
  {
   "cell_type": "code",
   "execution_count": 177,
   "metadata": {},
   "outputs": [
    {
     "name": "stdout",
     "output_type": "stream",
     "text": [
      "The training accuracy is given by: 84.634000\n"
     ]
    }
   ],
   "source": [
    "pred_svm = svm_fashion.predict(X_train_fashion)\n",
    "print('The training accuracy is given by: %f' % (get_acc(pred_svm, y_train_fashion)))"
   ]
  },
  {
   "cell_type": "markdown",
   "metadata": {},
   "source": [
    "### Validate SVM on Fashion-MNIST"
   ]
  },
  {
   "cell_type": "code",
   "execution_count": 178,
   "metadata": {},
   "outputs": [
    {
     "name": "stdout",
     "output_type": "stream",
     "text": [
      "The validation accuracy is given by: 82.570000\n"
     ]
    }
   ],
   "source": [
    "pred_svm = svm_fashion.predict(X_val_fashion)\n",
    "print('The validation accuracy is given by: %f' % (get_acc(pred_svm, y_val_fashion)))"
   ]
  },
  {
   "cell_type": "markdown",
   "metadata": {},
   "source": [
    "### Test SVM on Fashion-MNIST"
   ]
  },
  {
   "cell_type": "code",
   "execution_count": 179,
   "metadata": {},
   "outputs": [
    {
     "name": "stdout",
     "output_type": "stream",
     "text": [
      "The testing accuracy is given by: 81.440000\n"
     ]
    }
   ],
   "source": [
    "pred_svm = svm_fashion.predict(X_test_fashion)\n",
    "print('The testing accuracy is given by: %f' % (get_acc(pred_svm, y_test_fashion)))"
   ]
  },
  {
   "cell_type": "markdown",
   "metadata": {},
   "source": [
    "### SVM_Fashion-MNIST Kaggle Submission\n",
    "\n",
    "Once you are satisfied with your solution and test accuracy output a file to submit your test set predictions to the Kaggle for Assignment 1 Fashion-MNIST. Use the following code to do so:"
   ]
  },
  {
   "cell_type": "code",
   "execution_count": 180,
   "metadata": {},
   "outputs": [],
   "source": [
    "# output_submission_csv('kaggle/svm_submission_fashion.csv', svm_fashion.predict(X_test_fashion))"
   ]
  },
  {
   "attachments": {},
   "cell_type": "markdown",
   "metadata": {},
   "source": [
    "## Train SVM on Rice"
   ]
  },
  {
   "cell_type": "code",
   "execution_count": 181,
   "metadata": {},
   "outputs": [],
   "source": [
    "lr = 0.1\n",
    "n_epochs = 10\n",
    "reg_const = 0.01\n",
    "\n",
    "svm_RICE = SVM(n_class_RICE, lr, n_epochs, reg_const)\n",
    "svm_RICE.train(X_train_RICE, y_train_RICE)"
   ]
  },
  {
   "cell_type": "code",
   "execution_count": 182,
   "metadata": {},
   "outputs": [
    {
     "name": "stdout",
     "output_type": "stream",
     "text": [
      "The training accuracy is given by: 97.937861\n"
     ]
    }
   ],
   "source": [
    "pred_svm = svm_RICE.predict(X_train_RICE)\n",
    "print('The training accuracy is given by: %f' % (get_acc(pred_svm, y_train_RICE)))"
   ]
  },
  {
   "attachments": {},
   "cell_type": "markdown",
   "metadata": {},
   "source": [
    "### Validate SVM on Rice"
   ]
  },
  {
   "cell_type": "code",
   "execution_count": 183,
   "metadata": {},
   "outputs": [
    {
     "name": "stdout",
     "output_type": "stream",
     "text": [
      "The validation accuracy is given by: 98.267803\n"
     ]
    }
   ],
   "source": [
    "pred_svm = svm_RICE.predict(X_val_RICE)\n",
    "print('The validation accuracy is given by: %f' % (get_acc(pred_svm, y_val_RICE)))"
   ]
  },
  {
   "attachments": {},
   "cell_type": "markdown",
   "metadata": {},
   "source": [
    "## Test SVM on Rice"
   ]
  },
  {
   "cell_type": "code",
   "execution_count": 184,
   "metadata": {},
   "outputs": [
    {
     "name": "stdout",
     "output_type": "stream",
     "text": [
      "The testing accuracy is given by: 97.937861\n"
     ]
    }
   ],
   "source": [
    "pred_svm = svm_RICE.predict(X_test_RICE)\n",
    "print('The testing accuracy is given by: %f' % (get_acc(pred_svm, y_test_RICE)))"
   ]
  },
  {
   "cell_type": "markdown",
   "metadata": {},
   "source": [
    "# Softmax Classifier (with SGD)"
   ]
  },
  {
   "cell_type": "markdown",
   "metadata": {
    "collapsed": true,
    "jupyter": {
     "outputs_hidden": true
    }
   },
   "source": [
    "Next, you will train a Softmax classifier. This classifier consists of a linear function of the input data followed by a softmax function which outputs a vector of dimension C (number of classes) for each data point. Each entry of the softmax output vector corresponds to a confidence in one of the C classes, and like a probability distribution, the entries of the output vector sum to 1. We use a cross-entropy loss on this sotmax output to train the model. \n",
    "\n",
    "Check the following link as an additional resource on softmax classification: http://cs231n.github.io/linear-classify/#softmax\n",
    "\n",
    "Once again we will train the classifier with SGD. This means you need to compute the gradients of the softmax cross-entropy loss function according to the weights and update the weights using this gradient. Check the following link to help with implementing the gradient updates: https://deepnotes.io/softmax-crossentropy"
   ]
  },
  {
   "cell_type": "markdown",
   "metadata": {},
   "source": [
    "The softmax classifier has 3 hyperparameters that you can experiment with:\n",
    "- **Learning rate** - As above, this controls how much the model weights are updated with respect to their gradient.\n",
    "- **Number of Epochs** - As described for perceptron.\n",
    "- **Regularization constant** - Hyperparameter to determine the strength of regularization. In this case, we minimize the L2 norm of the model weights as regularization, so the regularization constant is a coefficient on the L2 norm in the combined cross-entropy and regularization objective."
   ]
  },
  {
   "cell_type": "markdown",
   "metadata": {},
   "source": [
    "You will implement a softmax classifier using SGD in the **models/softmax.py**\n",
    "\n",
    "The following code: \n",
    "- Creates an instance of the Softmax classifier class \n",
    "- The train function of the Softmax class is trained on the training data\n",
    "- We use the predict function to find the training accuracy as well as the testing accuracy"
   ]
  },
  {
   "cell_type": "markdown",
   "metadata": {},
   "source": [
    "## Train Softmax on Fashion-MNIST"
   ]
  },
  {
   "cell_type": "code",
   "execution_count": 186,
   "metadata": {},
   "outputs": [
    {
     "data": {
      "application/vnd.jupyter.widget-view+json": {
       "model_id": "1a8c75d15499454e96184d7e63be6bbe",
       "version_major": 2,
       "version_minor": 0
      },
      "text/plain": [
       "  0%|          | 0/18 [00:00<?, ?it/s]"
      ]
     },
     "metadata": {},
     "output_type": "display_data"
    },
    {
     "name": "stdout",
     "output_type": "stream",
     "text": [
      "searching 1 / 18,  n_class=10 | lr=0.5 | epochs=15 | reg_const=0.1\n",
      "validation accuracy: 82.07\n",
      "searching 2 / 18,  n_class=10 | lr=0.5 | epochs=15 | reg_const=0.05\n",
      "validation accuracy: 82.36\n",
      "searching 3 / 18,  n_class=10 | lr=0.5 | epochs=15 | reg_const=0.01\n",
      "validation accuracy: 82.03\n",
      "searching 4 / 18,  n_class=10 | lr=0.1 | epochs=15 | reg_const=0.1\n",
      "validation accuracy: 82.24000000000001\n",
      "searching 5 / 18,  n_class=10 | lr=0.1 | epochs=15 | reg_const=0.05\n",
      "validation accuracy: 81.92\n",
      "searching 6 / 18,  n_class=10 | lr=0.1 | epochs=15 | reg_const=0.01\n",
      "validation accuracy: 81.89\n",
      "searching 7 / 18,  n_class=10 | lr=0.08 | epochs=15 | reg_const=0.1\n",
      "validation accuracy: 82.17\n",
      "searching 8 / 18,  n_class=10 | lr=0.08 | epochs=15 | reg_const=0.05\n",
      "validation accuracy: 82.25\n",
      "searching 9 / 18,  n_class=10 | lr=0.08 | epochs=15 | reg_const=0.01\n",
      "validation accuracy: 82.09\n",
      "searching 10 / 18,  n_class=10 | lr=0.05 | epochs=15 | reg_const=0.1\n",
      "validation accuracy: 82.04\n",
      "searching 11 / 18,  n_class=10 | lr=0.05 | epochs=15 | reg_const=0.05\n",
      "validation accuracy: 82.19\n",
      "searching 12 / 18,  n_class=10 | lr=0.05 | epochs=15 | reg_const=0.01\n",
      "validation accuracy: 82.02000000000001\n",
      "searching 13 / 18,  n_class=10 | lr=0.01 | epochs=15 | reg_const=0.1\n",
      "validation accuracy: 81.74\n",
      "searching 14 / 18,  n_class=10 | lr=0.01 | epochs=15 | reg_const=0.05\n",
      "validation accuracy: 81.78\n",
      "searching 15 / 18,  n_class=10 | lr=0.01 | epochs=15 | reg_const=0.01\n",
      "validation accuracy: 82.04\n",
      "searching 16 / 18,  n_class=10 | lr=0.005 | epochs=15 | reg_const=0.1\n",
      "validation accuracy: 82.15\n",
      "searching 17 / 18,  n_class=10 | lr=0.005 | epochs=15 | reg_const=0.05\n",
      "validation accuracy: 81.85\n",
      "searching 18 / 18,  n_class=10 | lr=0.005 | epochs=15 | reg_const=0.01\n",
      "validation accuracy: 81.84\n",
      "DONE. Best parameter is n_class=10 | lr=0.5 | epochs=15 | reg_const=0.05\n"
     ]
    }
   ],
   "source": [
    "params = {\n",
    "    \"model\": Softmax,\n",
    "    \"xtrain\": X_train_fashion,\n",
    "    \"ytrain\": y_train_fashion,\n",
    "    \"xval\": X_test_fashion,\n",
    "    \"yval\": y_test_fashion,\n",
    "    \"hyperparams\": {\n",
    "        \"n_class\": [n_class_fashion],\n",
    "        \"lr\": [0.5, 0.1, 0.08, 0.05, 0.01, 0.005],\n",
    "        \"epochs\": [15],\n",
    "        \"reg_const\": [0.1, 0.05, 0.01]\n",
    "    }\n",
    "}\n",
    "search(params)"
   ]
  },
  {
   "cell_type": "code",
   "execution_count": 187,
   "metadata": {},
   "outputs": [],
   "source": [
    "lr = 0.5\n",
    "n_epochs = 15\n",
    "reg_const = 0.05\n",
    "\n",
    "softmax_fashion = Softmax(n_class_fashion, lr, n_epochs, reg_const)\n",
    "softmax_fashion.train(X_train_fashion, y_train_fashion)"
   ]
  },
  {
   "cell_type": "code",
   "execution_count": 188,
   "metadata": {},
   "outputs": [
    {
     "name": "stdout",
     "output_type": "stream",
     "text": [
      "The training accuracy is given by: 85.268000\n"
     ]
    }
   ],
   "source": [
    "pred_softmax = softmax_fashion.predict(X_train_fashion)\n",
    "print('The training accuracy is given by: %f' % (get_acc(pred_softmax, y_train_fashion)))"
   ]
  },
  {
   "cell_type": "markdown",
   "metadata": {},
   "source": [
    "### Validate Softmax on Fashion-MNIST"
   ]
  },
  {
   "cell_type": "code",
   "execution_count": 189,
   "metadata": {},
   "outputs": [
    {
     "name": "stdout",
     "output_type": "stream",
     "text": [
      "The validation accuracy is given by: 83.090000\n"
     ]
    }
   ],
   "source": [
    "pred_softmax = softmax_fashion.predict(X_val_fashion)\n",
    "print('The validation accuracy is given by: %f' % (get_acc(pred_softmax, y_val_fashion)))"
   ]
  },
  {
   "cell_type": "markdown",
   "metadata": {},
   "source": [
    "### Testing Softmax on Fashion-MNIST"
   ]
  },
  {
   "cell_type": "code",
   "execution_count": 190,
   "metadata": {},
   "outputs": [
    {
     "name": "stdout",
     "output_type": "stream",
     "text": [
      "The testing accuracy is given by: 82.260000\n"
     ]
    }
   ],
   "source": [
    "pred_softmax = softmax_fashion.predict(X_test_fashion)\n",
    "print('The testing accuracy is given by: %f' % (get_acc(pred_softmax, y_test_fashion)))"
   ]
  },
  {
   "cell_type": "markdown",
   "metadata": {},
   "source": [
    "### Softmax_Fashion-MNIST Kaggle Submission\n",
    "\n",
    "Once you are satisfied with your solution and test accuracy output a file to submit your test set predictions to the Kaggle for Assignment 1 Fashion-MNIST. Use the following code to do so:"
   ]
  },
  {
   "cell_type": "code",
   "execution_count": 204,
   "metadata": {},
   "outputs": [],
   "source": [
    "# output_submission_csv('kaggle/softmax_submission_fashion.csv', softmax_fashion.predict(X_test_fashion))"
   ]
  },
  {
   "attachments": {},
   "cell_type": "markdown",
   "metadata": {},
   "source": [
    "## Train Softmax on Rice"
   ]
  },
  {
   "cell_type": "code",
   "execution_count": 199,
   "metadata": {},
   "outputs": [
    {
     "data": {
      "application/vnd.jupyter.widget-view+json": {
       "model_id": "05d59f382a8b43b5b00bf59dd3050178",
       "version_major": 2,
       "version_minor": 0
      },
      "text/plain": [
       "  0%|          | 0/18 [00:00<?, ?it/s]"
      ]
     },
     "metadata": {},
     "output_type": "display_data"
    },
    {
     "name": "stdout",
     "output_type": "stream",
     "text": [
      "searching 1 / 18,  n_class=2 | lr=0.5 | epochs=15 | reg_const=0.1\n",
      "validation accuracy: 82.9529832279351\n",
      "searching 2 / 18,  n_class=2 | lr=0.5 | epochs=15 | reg_const=0.05\n",
      "validation accuracy: 85.56502612042893\n",
      "searching 3 / 18,  n_class=2 | lr=0.5 | epochs=15 | reg_const=0.01\n",
      "validation accuracy: 97.52543304921639\n",
      "searching 4 / 18,  n_class=2 | lr=0.1 | epochs=15 | reg_const=0.1\n",
      "validation accuracy: 91.64146274401979\n",
      "searching 5 / 18,  n_class=2 | lr=0.1 | epochs=15 | reg_const=0.05\n",
      "validation accuracy: 94.63843827330217\n",
      "searching 6 / 18,  n_class=2 | lr=0.1 | epochs=15 | reg_const=0.01\n",
      "validation accuracy: 93.42864998625241\n",
      "searching 7 / 18,  n_class=2 | lr=0.08 | epochs=15 | reg_const=0.1\n",
      "validation accuracy: 96.89304371734946\n",
      "searching 8 / 18,  n_class=2 | lr=0.08 | epochs=15 | reg_const=0.05\n",
      "validation accuracy: 92.38383282925487\n",
      "searching 9 / 18,  n_class=2 | lr=0.08 | epochs=15 | reg_const=0.01\n",
      "validation accuracy: 93.2911740445422\n",
      "searching 10 / 18,  n_class=2 | lr=0.05 | epochs=15 | reg_const=0.1\n",
      "validation accuracy: 97.25048116579599\n",
      "searching 11 / 18,  n_class=2 | lr=0.05 | epochs=15 | reg_const=0.05\n",
      "validation accuracy: 95.79323618366786\n",
      "searching 12 / 18,  n_class=2 | lr=0.05 | epochs=15 | reg_const=0.01\n",
      "validation accuracy: 97.03051965905966\n",
      "searching 13 / 18,  n_class=2 | lr=0.01 | epochs=15 | reg_const=0.1\n",
      "validation accuracy: 92.68627990101731\n",
      "searching 14 / 18,  n_class=2 | lr=0.01 | epochs=15 | reg_const=0.05\n",
      "validation accuracy: 97.1954907891119\n",
      "searching 15 / 18,  n_class=2 | lr=0.01 | epochs=15 | reg_const=0.01\n",
      "validation accuracy: 98.02034643937311\n",
      "searching 16 / 18,  n_class=2 | lr=0.005 | epochs=15 | reg_const=0.1\n",
      "validation accuracy: 95.32581798185318\n",
      "searching 17 / 18,  n_class=2 | lr=0.005 | epochs=15 | reg_const=0.05\n",
      "validation accuracy: 97.27797635413803\n",
      "searching 18 / 18,  n_class=2 | lr=0.005 | epochs=15 | reg_const=0.01\n",
      "validation accuracy: 95.29832279351113\n",
      "DONE. Best parameter is n_class=2 | lr=0.01 | epochs=15 | reg_const=0.01\n"
     ]
    }
   ],
   "source": [
    "params = {\n",
    "    \"model\": Softmax,\n",
    "    \"xtrain\": X_train_RICE,\n",
    "    \"ytrain\": y_train_RICE,\n",
    "    \"xval\": X_test_RICE,\n",
    "    \"yval\": y_test_RICE,\n",
    "    \"hyperparams\": {\n",
    "        \"n_class\": [n_class_RICE],\n",
    "        \"lr\": [0.5, 0.1, 0.08, 0.05, 0.01, 0.005],\n",
    "        \"epochs\": [15],\n",
    "        \"reg_const\": [0.1, 0.05, 0.01]\n",
    "    }\n",
    "}\n",
    "search(params)"
   ]
  },
  {
   "cell_type": "code",
   "execution_count": 200,
   "metadata": {},
   "outputs": [],
   "source": [
    "lr = 0.01\n",
    "n_epochs = 15\n",
    "reg_const = 0.01\n",
    "\n",
    "softmax_RICE = Softmax(n_class_RICE, lr, n_epochs, reg_const)\n",
    "softmax_RICE.train(X_train_RICE, y_train_RICE)"
   ]
  },
  {
   "cell_type": "code",
   "execution_count": 201,
   "metadata": {},
   "outputs": [
    {
     "name": "stdout",
     "output_type": "stream",
     "text": [
      "The training accuracy is given by: 97.919531\n"
     ]
    }
   ],
   "source": [
    "pred_softmax = softmax_RICE.predict(X_train_RICE)\n",
    "print('The training accuracy is given by: %f' % (get_acc(pred_softmax, y_train_RICE)))"
   ]
  },
  {
   "attachments": {},
   "cell_type": "markdown",
   "metadata": {},
   "source": [
    "### Validate Softmax on Rice"
   ]
  },
  {
   "cell_type": "code",
   "execution_count": 202,
   "metadata": {},
   "outputs": [
    {
     "name": "stdout",
     "output_type": "stream",
     "text": [
      "The validation accuracy is given by: 98.240308\n"
     ]
    }
   ],
   "source": [
    "pred_softmax = softmax_RICE.predict(X_val_RICE)\n",
    "print('The validation accuracy is given by: %f' % (get_acc(pred_softmax, y_val_RICE)))"
   ]
  },
  {
   "attachments": {},
   "cell_type": "markdown",
   "metadata": {},
   "source": [
    "### Testing Softmax on Rice"
   ]
  },
  {
   "cell_type": "code",
   "execution_count": 203,
   "metadata": {},
   "outputs": [
    {
     "name": "stdout",
     "output_type": "stream",
     "text": [
      "The testing accuracy is given by: 97.937861\n"
     ]
    }
   ],
   "source": [
    "pred_softmax = softmax_RICE.predict(X_test_RICE)\n",
    "print('The testing accuracy is given by: %f' % (get_acc(pred_softmax, y_test_RICE)))"
   ]
  },
  {
   "cell_type": "markdown",
   "metadata": {},
   "source": [
    "# Logistic Classifier"
   ]
  },
  {
   "cell_type": "markdown",
   "metadata": {},
   "source": [
    "The Logistic Classifier has 2 hyperparameters that you can experiment with:\n",
    "- **Learning rate** - similar to as defined above in Perceptron, this parameter scales by how much the weights are changed according to the calculated gradient update. \n",
    "- **Number of Epochs** - As described for perceptron.\n",
    "- **Threshold** - The decision boundary of the classifier.\n"
   ]
  },
  {
   "cell_type": "markdown",
   "metadata": {},
   "source": [
    "You will implement the Logistic Classifier in the **models/logistic.py**\n",
    "\n",
    "The following code: \n",
    "- Creates an instance of the Logistic classifier class \n",
    "- The train function of the Logistic class is trained on the training data\n",
    "- We use the predict function to find the training accuracy as well as the testing accuracy"
   ]
  },
  {
   "cell_type": "markdown",
   "metadata": {},
   "source": [
    "### Training Logistic Classifer"
   ]
  },
  {
   "cell_type": "code",
   "execution_count": 209,
   "metadata": {},
   "outputs": [
    {
     "data": {
      "application/vnd.jupyter.widget-view+json": {
       "model_id": "757a827a3f264c2ab93b2e4322d905bd",
       "version_major": 2,
       "version_minor": 0
      },
      "text/plain": [
       "  0%|          | 0/60 [00:00<?, ?it/s]"
      ]
     },
     "metadata": {},
     "output_type": "display_data"
    },
    {
     "name": "stdout",
     "output_type": "stream",
     "text": [
      "searching 1 / 60,  lr=0.5 | epochs=15 | threshold=0.4\n"
     ]
    },
    {
     "name": "stderr",
     "output_type": "stream",
     "text": [
      "D:\\CODE\\School\\cs444\\assignment1\\models\\logistic.py:30: RuntimeWarning: overflow encountered in exp\n",
      "  \n"
     ]
    },
    {
     "name": "stdout",
     "output_type": "stream",
     "text": [
      "validation accuracy: 99.80753368160572\n",
      "searching 2 / 60,  lr=0.5 | epochs=15 | threshold=0.5\n",
      "validation accuracy: 99.80753368160572\n",
      "searching 3 / 60,  lr=0.5 | epochs=15 | threshold=0.6\n",
      "validation accuracy: 99.80753368160572\n",
      "searching 4 / 60,  lr=0.5 | epochs=15 | threshold=0.7\n",
      "validation accuracy: 99.83502886994776\n",
      "searching 5 / 60,  lr=0.5 | epochs=15 | threshold=0.8\n",
      "validation accuracy: 99.80753368160572\n",
      "searching 6 / 60,  lr=0.5 | epochs=10 | threshold=0.4\n",
      "validation accuracy: 99.80753368160572\n",
      "searching 7 / 60,  lr=0.5 | epochs=10 | threshold=0.5\n",
      "validation accuracy: 99.80753368160572\n",
      "searching 8 / 60,  lr=0.5 | epochs=10 | threshold=0.6\n",
      "validation accuracy: 99.80753368160572\n",
      "searching 9 / 60,  lr=0.5 | epochs=10 | threshold=0.7\n",
      "validation accuracy: 99.80753368160572\n",
      "searching 10 / 60,  lr=0.5 | epochs=10 | threshold=0.8\n",
      "validation accuracy: 99.80753368160572\n",
      "searching 11 / 60,  lr=0.1 | epochs=15 | threshold=0.4\n",
      "validation accuracy: 99.78003849326367\n",
      "searching 12 / 60,  lr=0.1 | epochs=15 | threshold=0.5\n",
      "validation accuracy: 99.78003849326367\n",
      "searching 13 / 60,  lr=0.1 | epochs=15 | threshold=0.6\n",
      "validation accuracy: 99.78003849326367\n",
      "searching 14 / 60,  lr=0.1 | epochs=15 | threshold=0.7\n",
      "validation accuracy: 99.80753368160572\n",
      "searching 15 / 60,  lr=0.1 | epochs=15 | threshold=0.8\n",
      "validation accuracy: 99.80753368160572\n",
      "searching 16 / 60,  lr=0.1 | epochs=10 | threshold=0.4\n",
      "validation accuracy: 99.80753368160572\n",
      "searching 17 / 60,  lr=0.1 | epochs=10 | threshold=0.5\n",
      "validation accuracy: 99.78003849326367\n",
      "searching 18 / 60,  lr=0.1 | epochs=10 | threshold=0.6\n",
      "validation accuracy: 99.83502886994776\n",
      "searching 19 / 60,  lr=0.1 | epochs=10 | threshold=0.7\n",
      "validation accuracy: 99.80753368160572\n",
      "searching 20 / 60,  lr=0.1 | epochs=10 | threshold=0.8\n",
      "validation accuracy: 99.80753368160572\n",
      "searching 21 / 60,  lr=0.08 | epochs=15 | threshold=0.4\n",
      "validation accuracy: 99.78003849326367\n",
      "searching 22 / 60,  lr=0.08 | epochs=15 | threshold=0.5\n",
      "validation accuracy: 99.83502886994776\n",
      "searching 23 / 60,  lr=0.08 | epochs=15 | threshold=0.6\n",
      "validation accuracy: 99.80753368160572\n",
      "searching 24 / 60,  lr=0.08 | epochs=15 | threshold=0.7\n",
      "validation accuracy: 99.80753368160572\n",
      "searching 25 / 60,  lr=0.08 | epochs=15 | threshold=0.8\n",
      "validation accuracy: 99.80753368160572\n",
      "searching 26 / 60,  lr=0.08 | epochs=10 | threshold=0.4\n",
      "validation accuracy: 99.78003849326367\n",
      "searching 27 / 60,  lr=0.08 | epochs=10 | threshold=0.5\n",
      "validation accuracy: 99.80753368160572\n",
      "searching 28 / 60,  lr=0.08 | epochs=10 | threshold=0.6\n",
      "validation accuracy: 99.80753368160572\n",
      "searching 29 / 60,  lr=0.08 | epochs=10 | threshold=0.7\n",
      "validation accuracy: 99.80753368160572\n",
      "searching 30 / 60,  lr=0.08 | epochs=10 | threshold=0.8\n",
      "validation accuracy: 99.80753368160572\n",
      "searching 31 / 60,  lr=0.05 | epochs=15 | threshold=0.4\n",
      "validation accuracy: 99.80753368160572\n",
      "searching 32 / 60,  lr=0.05 | epochs=15 | threshold=0.5\n",
      "validation accuracy: 99.80753368160572\n",
      "searching 33 / 60,  lr=0.05 | epochs=15 | threshold=0.6\n",
      "validation accuracy: 99.80753368160572\n",
      "searching 34 / 60,  lr=0.05 | epochs=15 | threshold=0.7\n",
      "validation accuracy: 99.80753368160572\n",
      "searching 35 / 60,  lr=0.05 | epochs=15 | threshold=0.8\n",
      "validation accuracy: 99.78003849326367\n",
      "searching 36 / 60,  lr=0.05 | epochs=10 | threshold=0.4\n",
      "validation accuracy: 99.80753368160572\n",
      "searching 37 / 60,  lr=0.05 | epochs=10 | threshold=0.5\n",
      "validation accuracy: 99.78003849326367\n",
      "searching 38 / 60,  lr=0.05 | epochs=10 | threshold=0.6\n",
      "validation accuracy: 99.78003849326367\n",
      "searching 39 / 60,  lr=0.05 | epochs=10 | threshold=0.7\n",
      "validation accuracy: 99.83502886994776\n",
      "searching 40 / 60,  lr=0.05 | epochs=10 | threshold=0.8\n",
      "validation accuracy: 99.78003849326367\n",
      "searching 41 / 60,  lr=0.01 | epochs=15 | threshold=0.4\n",
      "validation accuracy: 99.78003849326367\n",
      "searching 42 / 60,  lr=0.01 | epochs=15 | threshold=0.5\n",
      "validation accuracy: 99.75254330492163\n",
      "searching 43 / 60,  lr=0.01 | epochs=15 | threshold=0.6\n",
      "validation accuracy: 99.80753368160572\n",
      "searching 44 / 60,  lr=0.01 | epochs=15 | threshold=0.7\n",
      "validation accuracy: 99.78003849326367\n",
      "searching 45 / 60,  lr=0.01 | epochs=15 | threshold=0.8\n",
      "validation accuracy: 99.80753368160572\n",
      "searching 46 / 60,  lr=0.01 | epochs=10 | threshold=0.4\n",
      "validation accuracy: 99.83502886994776\n",
      "searching 47 / 60,  lr=0.01 | epochs=10 | threshold=0.5\n",
      "validation accuracy: 99.78003849326367\n",
      "searching 48 / 60,  lr=0.01 | epochs=10 | threshold=0.6\n",
      "validation accuracy: 99.80753368160572\n",
      "searching 49 / 60,  lr=0.01 | epochs=10 | threshold=0.7\n",
      "validation accuracy: 99.83502886994776\n",
      "searching 50 / 60,  lr=0.01 | epochs=10 | threshold=0.8\n",
      "validation accuracy: 99.78003849326367\n",
      "searching 51 / 60,  lr=0.005 | epochs=15 | threshold=0.4\n",
      "validation accuracy: 99.86252405828981\n",
      "searching 52 / 60,  lr=0.005 | epochs=15 | threshold=0.5\n",
      "validation accuracy: 99.83502886994776\n",
      "searching 53 / 60,  lr=0.005 | epochs=15 | threshold=0.6\n",
      "validation accuracy: 99.78003849326367\n",
      "searching 54 / 60,  lr=0.005 | epochs=15 | threshold=0.7\n",
      "validation accuracy: 99.83502886994776\n",
      "searching 55 / 60,  lr=0.005 | epochs=15 | threshold=0.8\n",
      "validation accuracy: 99.83502886994776\n",
      "searching 56 / 60,  lr=0.005 | epochs=10 | threshold=0.4\n",
      "validation accuracy: 99.83502886994776\n",
      "searching 57 / 60,  lr=0.005 | epochs=10 | threshold=0.5\n",
      "validation accuracy: 99.78003849326367\n",
      "searching 58 / 60,  lr=0.005 | epochs=10 | threshold=0.6\n",
      "validation accuracy: 99.78003849326367\n",
      "searching 59 / 60,  lr=0.005 | epochs=10 | threshold=0.7\n",
      "validation accuracy: 99.83502886994776\n",
      "searching 60 / 60,  lr=0.005 | epochs=10 | threshold=0.8\n",
      "validation accuracy: 99.86252405828981\n",
      "DONE. Best parameter is lr=0.005 | epochs=15 | threshold=0.4\n"
     ]
    }
   ],
   "source": [
    "params = {\n",
    "    \"model\": Logistic,\n",
    "    \"xtrain\": X_train_RICE,\n",
    "    \"ytrain\": y_train_RICE,\n",
    "    \"xval\": X_test_RICE,\n",
    "    \"yval\": y_test_RICE,\n",
    "    \"hyperparams\": {\n",
    "        \"lr\": [0.5, 0.1, 0.08, 0.05, 0.01, 0.005],\n",
    "        \"epochs\": [15, 10],\n",
    "        \"threshold\": [0.4,0.5,0.6,0.7,0.8]\n",
    "    }\n",
    "}\n",
    "search(params)"
   ]
  },
  {
   "cell_type": "code",
   "execution_count": 210,
   "metadata": {},
   "outputs": [],
   "source": [
    "learning_rate = 0.005\n",
    "n_epochs = 15\n",
    "threshold = 0.4\n",
    "\n",
    "lr = Logistic(learning_rate, n_epochs, threshold)\n",
    "lr.train(X_train_RICE, y_train_RICE)"
   ]
  },
  {
   "cell_type": "code",
   "execution_count": 211,
   "metadata": {},
   "outputs": [
    {
     "name": "stdout",
     "output_type": "stream",
     "text": [
      "The training accuracy is given by: 99.880854\n"
     ]
    }
   ],
   "source": [
    "pred_lr = lr.predict(X_train_RICE)\n",
    "print('The training accuracy is given by: %f' % (get_acc(pred_lr, y_train_RICE)))"
   ]
  },
  {
   "cell_type": "markdown",
   "metadata": {},
   "source": [
    "### Validate Logistic Classifer"
   ]
  },
  {
   "cell_type": "code",
   "execution_count": 212,
   "metadata": {},
   "outputs": [
    {
     "name": "stdout",
     "output_type": "stream",
     "text": [
      "The validation accuracy is given by: 99.862524\n"
     ]
    }
   ],
   "source": [
    "pred_lr = lr.predict(X_val_RICE)\n",
    "print('The validation accuracy is given by: %f' % (get_acc(pred_lr, y_val_RICE)))"
   ]
  },
  {
   "cell_type": "markdown",
   "metadata": {},
   "source": [
    "### Test Logistic Classifier"
   ]
  },
  {
   "cell_type": "code",
   "execution_count": 213,
   "metadata": {},
   "outputs": [
    {
     "name": "stdout",
     "output_type": "stream",
     "text": [
      "The testing accuracy is given by: 99.807534\n"
     ]
    }
   ],
   "source": [
    "pred_lr = lr.predict(X_test_RICE)\n",
    "print('The testing accuracy is given by: %f' % (get_acc(pred_lr, y_test_RICE)))"
   ]
  },
  {
   "cell_type": "code",
   "execution_count": null,
   "metadata": {},
   "outputs": [],
   "source": []
  }
 ],
 "metadata": {
  "kernelspec": {
   "display_name": "Python 3 (ipykernel)",
   "language": "python",
   "name": "python3"
  },
  "language_info": {
   "codemirror_mode": {
    "name": "ipython",
    "version": 3
   },
   "file_extension": ".py",
   "mimetype": "text/x-python",
   "name": "python",
   "nbconvert_exporter": "python",
   "pygments_lexer": "ipython3",
   "version": "3.11.7"
  },
  "vscode": {
   "interpreter": {
    "hash": "397704579725e15f5c7cb49fe5f0341eb7531c82d19f2c29d197e8b64ab5776b"
   }
  }
 },
 "nbformat": 4,
 "nbformat_minor": 4
}
